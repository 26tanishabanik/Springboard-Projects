{
 "cells": [
  {
   "cell_type": "markdown",
   "metadata": {},
   "source": [
    "# Overview of work completed thus far:"
   ]
  },
  {
   "cell_type": "markdown",
   "metadata": {},
   "source": [
    "- Data importing\n",
    "    - Station information \n",
    "    - Total daily energy availability (to be predicted by ML model)\n",
    "    - Weather variable predictions/forecasts\n",
    "    \n",
    "- Data wrangling\n",
    "    - Ran a check for null values - none found\n",
    "    - Ran a check for erroneous energy values (determined to be values not ending in 0) - these values makeup 0.42% of overall \n",
    "      values and will be removed\n",
    "    - The goal is to create a list of observations (total daily energy availability) for each site on each day and\n",
    "      combine with  the list of features \n",
    "    - This process was done using nested for loops\n",
    "        - For each station:\n",
    "        - For each weather prediction/forecast variable:\n",
    "            - Merge the list of energy data for a specific station with the list of stations\n",
    "            - Get all weather variable forecasts for all days, forecast hours, gridpoints, 11 predictive models\n",
    "            - Use only the weather variable forecasts from the latitude and longitude of the closest gridpoint to the station\n",
    "            - Take the median value of the 11 different predictive models\n",
    "            - Pivot the forecast hour to be a 5 different columns for each of the 5 forecast hours\n",
    "            - Merge the weather variable predictions/forecasts for each day with the total energy availability"
   ]
  },
  {
   "cell_type": "markdown",
   "metadata": {},
   "source": [
    "# Modules Import"
   ]
  },
  {
   "cell_type": "code",
   "execution_count": 1,
   "metadata": {},
   "outputs": [
    {
     "name": "stderr",
     "output_type": "stream",
     "text": [
      "C:\\Users\\conno\\Anaconda3\\lib\\site-packages\\dask\\config.py:168: YAMLLoadWarning: calling yaml.load() without Loader=... is deprecated, as the default Loader is unsafe. Please read https://msg.pyyaml.org/load for full details.\n",
      "  data = yaml.load(f.read()) or {}\n",
      "C:\\Users\\conno\\Anaconda3\\lib\\site-packages\\distributed\\config.py:20: YAMLLoadWarning: calling yaml.load() without Loader=... is deprecated, as the default Loader is unsafe. Please read https://msg.pyyaml.org/load for full details.\n",
      "  defaults = yaml.load(f)\n"
     ]
    }
   ],
   "source": [
    "# Import necessary modules\n",
    "\n",
    "import numpy as np\n",
    "import netCDF4 as nc\n",
    "import pandas as pd\n",
    "\n",
    "import xarray as xr\n",
    "import matplotlib.pyplot as plt\n",
    "%matplotlib inline\n",
    "from pathlib import Path\n",
    "import glob\n",
    "from functools import reduce\n",
    "\n",
    "from mpl_toolkits.basemap import Basemap, cm\n",
    "import seaborn as seabornInstance "
   ]
  },
  {
   "cell_type": "markdown",
   "metadata": {},
   "source": [
    "# Data Import"
   ]
  },
  {
   "cell_type": "code",
   "execution_count": 2,
   "metadata": {},
   "outputs": [
    {
     "name": "stdout",
     "output_type": "stream",
     "text": [
      "   stid      nlat      elon  elev\n",
      "0  ACME  34.80833 -98.02325   397\n",
      "1  ADAX  34.79851 -96.66909   295\n",
      "2  ALTU  34.58722 -99.33808   416\n",
      "3  APAC  34.91418 -98.29216   440\n",
      "4  ARNE  36.07204 -99.90308   719\n",
      "                ACME      ADAX      ALTU      APAC      ARNE      BEAV  \\\n",
      "Date                                                                     \n",
      "1994-01-01  12384900  11930700  12116700  12301200  10706100  10116900   \n",
      "1994-01-02  11908500   9778500  10862700  11666400   8062500   9262800   \n",
      "1994-01-03  12470700   9771900  12627300  12782700  11618400  10789800   \n",
      "1994-01-04  12725400   6466800  13065300  12817500  12134400  11816700   \n",
      "1994-01-05  10894800  11545200   8060400  10379400   6918600   9936300   \n",
      "\n",
      "                BESS      BIXB      BLAC      BOIS  ...      VINI      WASH  \\\n",
      "Date                                                ...                       \n",
      "1994-01-01  11487900  11182800  10848300  10225200  ...  10771800  12116400   \n",
      "1994-01-02   9235200   3963300   3318300  11316600  ...   4314300  10733400   \n",
      "1994-01-03  11895900   4512600   5266500  11916000  ...   2976900  11775000   \n",
      "1994-01-04  12186600   3212700   8270100  11884200  ...   3476400  12159600   \n",
      "1994-01-05   6411300   9566100   8009400   9288900  ...   6393300  11419500   \n",
      "\n",
      "                WATO      WAUR      WEAT      WEST      WILB      WIST  \\\n",
      "Date                                                                     \n",
      "1994-01-01  11308800  12361800  11331600  10644300  11715600  11241000   \n",
      "1994-01-02   9154800  12041400   9168300   4082700   9228000   5829900   \n",
      "1994-01-03  10700400  12687300  11324400   2746500   3686700   4488900   \n",
      "1994-01-04  11907000  12953100  11903700   2741400   4905000   4089300   \n",
      "1994-01-05   7334400  10178700   7471500   8235300  11159100  10651500   \n",
      "\n",
      "                WOOD      WYNO  \n",
      "Date                            \n",
      "1994-01-01  10490100  10545300  \n",
      "1994-01-02   7412100   3345300  \n",
      "1994-01-03   9712200   4442100  \n",
      "1994-01-04  11401500   4365000  \n",
      "1994-01-05  10006200   8568300  \n",
      "\n",
      "[5 rows x 98 columns]\n"
     ]
    }
   ],
   "source": [
    "# Import the station location data and station energy data\n",
    "\n",
    "# Station data is the list of 98 Mesonet solar farm IDs, their location (longitude, latitude, elevation)\n",
    "stations = pd.read_csv('station_info.csv')\n",
    "\n",
    "# Energy data is the total daily energy availability on each day for each station\n",
    "energy = pd.read_csv('train.csv', parse_dates=True, index_col='Date')\n",
    "\n",
    "print(stations.head())\n",
    "print(energy.head())"
   ]
  },
  {
   "cell_type": "code",
   "execution_count": 3,
   "metadata": {
    "scrolled": true
   },
   "outputs": [
    {
     "data": {
      "text/html": [
       "<div>\n",
       "<style scoped>\n",
       "    .dataframe tbody tr th:only-of-type {\n",
       "        vertical-align: middle;\n",
       "    }\n",
       "\n",
       "    .dataframe tbody tr th {\n",
       "        vertical-align: top;\n",
       "    }\n",
       "\n",
       "    .dataframe thead th {\n",
       "        text-align: right;\n",
       "    }\n",
       "</style>\n",
       "<table border=\"1\" class=\"dataframe\">\n",
       "  <thead>\n",
       "    <tr style=\"text-align: right;\">\n",
       "      <th></th>\n",
       "      <th></th>\n",
       "      <th></th>\n",
       "      <th></th>\n",
       "      <th></th>\n",
       "      <th>intTime</th>\n",
       "      <th>intValidTime</th>\n",
       "      <th>Total_precipitation</th>\n",
       "    </tr>\n",
       "    <tr>\n",
       "      <th>ens</th>\n",
       "      <th>fhour</th>\n",
       "      <th>lat</th>\n",
       "      <th>lon</th>\n",
       "      <th>time</th>\n",
       "      <th></th>\n",
       "      <th></th>\n",
       "      <th></th>\n",
       "    </tr>\n",
       "  </thead>\n",
       "  <tbody>\n",
       "    <tr>\n",
       "      <th rowspan=\"5\" valign=\"top\">0</th>\n",
       "      <th rowspan=\"5\" valign=\"top\">12:00:00</th>\n",
       "      <th rowspan=\"5\" valign=\"top\">31.0</th>\n",
       "      <th rowspan=\"5\" valign=\"top\">254.0</th>\n",
       "      <th>1994-01-01</th>\n",
       "      <td>1994010100</td>\n",
       "      <td>1994010112</td>\n",
       "      <td>0.0</td>\n",
       "    </tr>\n",
       "    <tr>\n",
       "      <th>1994-01-02</th>\n",
       "      <td>1994010200</td>\n",
       "      <td>1994010212</td>\n",
       "      <td>0.0</td>\n",
       "    </tr>\n",
       "    <tr>\n",
       "      <th>1994-01-03</th>\n",
       "      <td>1994010300</td>\n",
       "      <td>1994010312</td>\n",
       "      <td>0.0</td>\n",
       "    </tr>\n",
       "    <tr>\n",
       "      <th>1994-01-04</th>\n",
       "      <td>1994010400</td>\n",
       "      <td>1994010412</td>\n",
       "      <td>0.0</td>\n",
       "    </tr>\n",
       "    <tr>\n",
       "      <th>1994-01-05</th>\n",
       "      <td>1994010500</td>\n",
       "      <td>1994010512</td>\n",
       "      <td>0.0</td>\n",
       "    </tr>\n",
       "  </tbody>\n",
       "</table>\n",
       "</div>"
      ],
      "text/plain": [
       "                                       intTime  intValidTime  \\\n",
       "ens fhour    lat  lon   time                                   \n",
       "0   12:00:00 31.0 254.0 1994-01-01  1994010100    1994010112   \n",
       "                        1994-01-02  1994010200    1994010212   \n",
       "                        1994-01-03  1994010300    1994010312   \n",
       "                        1994-01-04  1994010400    1994010412   \n",
       "                        1994-01-05  1994010500    1994010512   \n",
       "\n",
       "                                    Total_precipitation  \n",
       "ens fhour    lat  lon   time                             \n",
       "0   12:00:00 31.0 254.0 1994-01-01                  0.0  \n",
       "                        1994-01-02                  0.0  \n",
       "                        1994-01-03                  0.0  \n",
       "                        1994-01-04                  0.0  \n",
       "                        1994-01-05                  0.0  "
      ]
     },
     "execution_count": 3,
     "metadata": {},
     "output_type": "execute_result"
    }
   ],
   "source": [
    "# Import the weather variable forecasts\n",
    "# Forecasts are separated into 15 different files for each forecast variable (e.g. air pressure, specific humidity, etc.)\n",
    "# Each variable is forecast using 11 different predictive models at 144 gridpoint locations\n",
    "# (on 16 lines of longitude and 9 lines of latitude)\n",
    "\n",
    "# Take any filename that ends in .nc and add to a list of the files\n",
    "weather_file_list = glob.glob('*.nc')\n",
    "\n",
    "# Take the data from each file in the file list and put into a list of data\n",
    "list_of_data = [xr.open_dataset(filename) for filename in weather_file_list]\n",
    "\n",
    "# Convert list of data to a list of dataframes\n",
    "# Each dataframe consists of forecast data for a single weather variable\n",
    "list_of_dfs = [data_file.to_dataframe() for data_file in list_of_data]\n",
    "\n",
    "list_of_dfs[0].head()"
   ]
  },
  {
   "cell_type": "markdown",
   "metadata": {},
   "source": [
    "# Missing values and outliers"
   ]
  },
  {
   "cell_type": "code",
   "execution_count": 4,
   "metadata": {
    "scrolled": true
   },
   "outputs": [
    {
     "data": {
      "text/plain": [
       "False"
      ]
     },
     "execution_count": 4,
     "metadata": {},
     "output_type": "execute_result"
    }
   ],
   "source": [
    "# Check for null values in energy data\n",
    "energy.isnull().any().any()"
   ]
  },
  {
   "cell_type": "code",
   "execution_count": 6,
   "metadata": {},
   "outputs": [
    {
     "name": "stdout",
     "output_type": "stream",
     "text": [
      "[False, False, False, False, False, False, False, False, False, False, False, False, False, False, False]\n"
     ]
    }
   ],
   "source": [
    "# Check for null values in weather variable data\n",
    "null_check = []\n",
    "\n",
    "for df in list_of_dfs:\n",
    "    null_check.append(df.isnull().any().any())\n",
    "\n",
    "print(null_check)"
   ]
  },
  {
   "cell_type": "code",
   "execution_count": 7,
   "metadata": {
    "scrolled": true
   },
   "outputs": [
    {
     "data": {
      "text/plain": [
       "11010048    13\n",
       "13517100     4\n",
       "18781200     3\n",
       "25608600     2\n",
       "29627400     2\n",
       "Name: ACME, dtype: int64"
      ]
     },
     "execution_count": 7,
     "metadata": {},
     "output_type": "execute_result"
    }
   ],
   "source": [
    "# Check for repeating values as client has stated that pyranometers occasionally do not function correctly\n",
    "# Repeating values appear to end in a number that is not 0\n",
    "energy.ACME.value_counts().head()"
   ]
  },
  {
   "cell_type": "code",
   "execution_count": 8,
   "metadata": {
    "scrolled": true
   },
   "outputs": [
    {
     "data": {
      "text/plain": [
       "10223616    14\n",
       "11530800     3\n",
       "23339400     3\n",
       "13851600     3\n",
       "17067300     2\n",
       "Name: ADAX, dtype: int64"
      ]
     },
     "execution_count": 8,
     "metadata": {},
     "output_type": "execute_result"
    }
   ],
   "source": [
    "energy.ADAX.value_counts().head()"
   ]
  },
  {
   "cell_type": "code",
   "execution_count": 9,
   "metadata": {
    "scrolled": false
   },
   "outputs": [
    {
     "data": {
      "text/plain": [
       "12320768    104\n",
       "15594000      3\n",
       "12843900      3\n",
       "12471900      3\n",
       "7706400       2\n",
       "Name: CLAY, dtype: int64"
      ]
     },
     "execution_count": 9,
     "metadata": {},
     "output_type": "execute_result"
    }
   ],
   "source": [
    "energy.CLAY.value_counts().head()"
   ]
  },
  {
   "cell_type": "code",
   "execution_count": 10,
   "metadata": {
    "scrolled": false
   },
   "outputs": [
    {
     "data": {
      "text/plain": [
       "<matplotlib.legend.Legend at 0x28b917d9470>"
      ]
     },
     "execution_count": 10,
     "metadata": {},
     "output_type": "execute_result"
    },
    {
     "data": {
      "image/png": "[encoded data removed]",
      "text/plain": [
       "<Figure size 432x288 with 1 Axes>"
      ]
     },
     "metadata": {
      "needs_background": "light"
     },
     "output_type": "display_data"
    }
   ],
   "source": [
    "energy.ACME.loc['1999'].plot()\n",
    "energy.CLAY.loc['1999'].plot()\n",
    "plt.ylabel('Energy (J/m^2)')\n",
    "plt.legend()\n",
    "# Continuous energy value given for CLAY May-July - erroneous"
   ]
  },
  {
   "cell_type": "code",
   "execution_count": 11,
   "metadata": {
    "scrolled": true
   },
   "outputs": [],
   "source": [
    "columns = list(energy)\n",
    "error_val_count = {}\n",
    "\n",
    "for column in columns:\n",
    "    for row in range(energy[column].size):\n",
    "        if str(energy[column][row])[-1] != '0':\n",
    "            if not column in error_val_count:\n",
    "                error_val_count[column] = 1\n",
    "            else:\n",
    "                error_val_count[column] += 1"
   ]
  },
  {
   "cell_type": "code",
   "execution_count": 12,
   "metadata": {
    "scrolled": true
   },
   "outputs": [
    {
     "data": {
      "text/plain": [
       "{'ACME': 13,\n",
       " 'ADAX': 14,\n",
       " 'BEAV': 9,\n",
       " 'BESS': 25,\n",
       " 'BIXB': 51,\n",
       " 'BOWL': 12,\n",
       " 'BREC': 1,\n",
       " 'BRIS': 18,\n",
       " 'BUFF': 19,\n",
       " 'BURB': 60,\n",
       " 'BURN': 32,\n",
       " 'BYAR': 26,\n",
       " 'CHER': 4,\n",
       " 'CHEY': 38,\n",
       " 'CHIC': 22,\n",
       " 'CLAY': 104,\n",
       " 'COOK': 5,\n",
       " 'COPA': 2,\n",
       " 'ELRE': 6,\n",
       " 'ERIC': 79,\n",
       " 'EUFA': 48,\n",
       " 'FAIR': 301,\n",
       " 'FORA': 14,\n",
       " 'FREE': 1,\n",
       " 'FTCB': 8,\n",
       " 'GOOD': 92,\n",
       " 'GUTH': 1,\n",
       " 'HASK': 63,\n",
       " 'HOBA': 1,\n",
       " 'HOLL': 1,\n",
       " 'HUGO': 10,\n",
       " 'IDAB': 21,\n",
       " 'KENT': 3,\n",
       " 'MADI': 10,\n",
       " 'MARE': 1,\n",
       " 'MAYR': 33,\n",
       " 'MEDI': 26,\n",
       " 'MIAM': 4,\n",
       " 'MTHE': 219,\n",
       " 'NINN': 57,\n",
       " 'OKEM': 52,\n",
       " 'OKMU': 69,\n",
       " 'PRYO': 14,\n",
       " 'REDR': 5,\n",
       " 'RETR': 45,\n",
       " 'RING': 6,\n",
       " 'SALL': 50,\n",
       " 'SHAW': 3,\n",
       " 'SKIA': 1,\n",
       " 'SLAP': 118,\n",
       " 'SPEN': 43,\n",
       " 'STIG': 9,\n",
       " 'STUA': 2,\n",
       " 'TALI': 12,\n",
       " 'TIPT': 1,\n",
       " 'VINI': 16,\n",
       " 'WATO': 11,\n",
       " 'WEST': 149,\n",
       " 'WILB': 34,\n",
       " 'WIST': 14,\n",
       " 'WYNO': 14}"
      ]
     },
     "execution_count": 12,
     "metadata": {},
     "output_type": "execute_result"
    }
   ],
   "source": [
    "error_val_count"
   ]
  },
  {
   "cell_type": "code",
   "execution_count": 13,
   "metadata": {},
   "outputs": [
    {
     "name": "stdout",
     "output_type": "stream",
     "text": [
      "Total Erroneous Values: 2122\n",
      "Total Values: 501074\n",
      "Percent of Total Values being Erroneous: 0.42%\n"
     ]
    }
   ],
   "source": [
    "total_errors = sum(error_val_count.values())\n",
    "total_values = energy.shape[0] * energy.shape[1]\n",
    "error_value_pct = total_errors / total_values * 100\n",
    "print('Total Erroneous Values: ' + str(total_errors))\n",
    "print('Total Values: ' + str(total_values))\n",
    "print('Percent of Total Values being Erroneous: ' + str(error_value_pct)[0:4] + '%')"
   ]
  },
  {
   "cell_type": "markdown",
   "metadata": {},
   "source": [
    "# Data Formatting"
   ]
  },
  {
   "cell_type": "code",
   "execution_count": 14,
   "metadata": {},
   "outputs": [],
   "source": [
    "# Add filename column to each row of each dataframe\n",
    "for dataframe, filename in zip(list_of_dfs, weather_file_list):\n",
    "    dataframe['filename'] = filename"
   ]
  },
  {
   "cell_type": "code",
   "execution_count": 15,
   "metadata": {},
   "outputs": [],
   "source": [
    "# Create a dataframe with all the stations and their energy\n",
    "# Data has been transformed from having stations as column labels to a list of stations and\n",
    "# their total daily energy availability\n",
    "energy_melt = pd.melt(energy.reset_index(), id_vars='Date', var_name='stid', value_name='energy').set_index('Date')"
   ]
  },
  {
   "cell_type": "code",
   "execution_count": 16,
   "metadata": {},
   "outputs": [],
   "source": [
    "# Create function to find the closest weather prediction/forecast gridpoint for a Mesonet Station\n",
    "def closest_gridpoint(station_id):\n",
    "    '''\n",
    "Calculates the closest longitude and latitute gridpoint for an input station ID\n",
    "    '''\n",
    "    # Set station latitude and longitude\n",
    "    # Longitude adjusted by 360 deg. to be at same datum as weather prediction gridpoints\n",
    "    st_lat = stations[stations.stid == station_id]['nlat'].iloc[0]\n",
    "    st_lon = stations[stations.stid == station_id]['elon'].iloc[0] + 360\n",
    "    \n",
    "    # Create lists of gridpoint latitudes and longitudes\n",
    "    lats = list(range(31,40))\n",
    "    lons = list(range(254,270))\n",
    "    \n",
    "    # Calculate the difference between the station lon/lat and each gridpoint lon/lat\n",
    "    lat_dif = list(abs(lats - st_lat))\n",
    "    lon_dif = list(abs(lons - st_lon))\n",
    "    \n",
    "    # Calculate the gridpoint coordinates as the lon/lat with the minimum difference calculated above\n",
    "    gridpoint_coords = [lats[lat_dif.index(min(lat_dif))], lons[lon_dif.index(min(lon_dif))]]\n",
    "    \n",
    "    return gridpoint_coords"
   ]
  },
  {
   "cell_type": "code",
   "execution_count": 49,
   "metadata": {},
   "outputs": [],
   "source": [
    "# The features for the ML model must be calculated and organized\n",
    "\n",
    "# For each df in list_of_df, extract the weather variable column\n",
    "# Take the median value of the ensemble variables by grouping\n",
    "# Use the closest gridpoint (for now) for forecast values\n",
    "# Use the 5 timestamps as 5 different features\n",
    "\n",
    "# Create a short list of stations for testing\n",
    "stations_short = stations.head()\n",
    "\n",
    "# Run through each station\n",
    "for j, station in enumerate(stations.stid):\n",
    "    \n",
    "    # Merge the list of energy data for a specific station with the list of stations\n",
    "    energy_melt_temp = pd.merge(energy_melt[energy_melt.stid == station].reset_index(), stations_short, how='inner', on='stid')\n",
    "    energy_melt_temp['elon'] = energy_melt_temp['elon'] + 360 \n",
    "\n",
    "    # Use the closest gridpoint function to get the gridpoints to be used to determine which weather forecast data will be \n",
    "    # used as features for each station\n",
    "    gridpoint_coords = closest_gridpoint(station)\n",
    "    \n",
    "    # Run through each weather forecast variable\n",
    "    for i, df in enumerate(list_of_dfs):\n",
    "    \n",
    "        # Get the variable name and shorten it\n",
    "        w_variable_name = df.iloc[0,-1]\n",
    "        w_variable_name = w_variable_name[0:9]\n",
    "\n",
    "        # Get all weather variable forecasts for all days, forecast hours, gridpoints, 11 predictive models\n",
    "        weather_vars = pd.DataFrame(df.iloc[:, 2])\n",
    "        weather_vars = weather_vars.reset_index().set_index('time')\n",
    "\n",
    "        # Use only the weather variable forecasts from the latitude and longitude of the closest gridpoint to the station\n",
    "        # May be adjusted in the future to take the median of the closest 5 gridpoints, etc.\n",
    "        weather_vars = weather_vars[weather_vars.lat == gridpoint_coords[0]]\n",
    "        weather_vars = weather_vars[weather_vars.lon == gridpoint_coords[1]]\n",
    "\n",
    "        # Take the median value of the 11 different predictive models\n",
    "        weather_vars = weather_vars.reset_index()\n",
    "        weather_vars = weather_vars.groupby(by=['time','fhour', 'lat', 'lon']).median()\n",
    "        del weather_vars['ens']\n",
    "        \n",
    "        # Pivot the forecast hour to be a 5 different columns for each of the 5 forecast hours\n",
    "        weather_vars = weather_vars.reset_index().set_index('time')\n",
    "        weather_vars = weather_vars.pivot(columns='fhour', values=weather_vars.columns[-1])\n",
    "\n",
    "        # Set the column names of the forecast variables / forecast hours\n",
    "        weather_column_list = [w_variable_name + 'fhour0', w_variable_name + 'fhour1', w_variable_name + 'fhour2', w_variable_name + 'fhour3', w_variable_name + 'fhour4']\n",
    "        weather_vars.columns = weather_column_list\n",
    "    \n",
    "        # For the first iteration, create the complete weather variable dataframe, else add on to the existing dataframe\n",
    "        if i == 0:\n",
    "            energy_melt_complete = pd.merge(energy_melt_temp.reset_index(), weather_vars.reset_index(), how='outer', left_on='Date', right_on='time')\n",
    "            del energy_melt_complete['time']\n",
    "        else:\n",
    "            energy_melt_complete = pd.merge(energy_melt_complete.reset_index(drop=True), weather_vars.reset_index(), how='outer', left_on='Date', right_on='time')\n",
    "            del energy_melt_complete['time']\n",
    "            \n",
    "    # For the first iteration, create the complete dataframe, else add on to the existing dataframe        \n",
    "    if j == 0:\n",
    "        dataset = energy_melt_complete\n",
    "    else:\n",
    "        dataset = dataset.append(energy_melt_complete)"
   ]
  },
  {
   "cell_type": "code",
   "execution_count": null,
   "metadata": {},
   "outputs": [],
   "source": [
    "# Export dataset to csv for safekeeping\n",
    "export_csv = dataset.to_csv (r'ML_dataset.csv', index = None, header=True) "
   ]
  },
  {
   "cell_type": "code",
   "execution_count": 34,
   "metadata": {},
   "outputs": [],
   "source": [
    "# Load dataset from csv so the above cell does not need to be run again\n",
    "dataset = pd.read_csv(\"ML_dataset.csv\") \n",
    "del dataset['index']"
   ]
  },
  {
   "cell_type": "code",
   "execution_count": 35,
   "metadata": {
    "scrolled": true
   },
   "outputs": [],
   "source": [
    "# Drop all rows in dataset that do not end in 0 \n",
    "dataset = dataset.drop(dataset[dataset.energy % 10 != 0].index, axis=0).reset_index()\n",
    "\n",
    "# Add the year, month, and day as features\n",
    "dataset['year'] = dataset.Date.apply(lambda x: x[0:4])\n",
    "dataset['month'] = dataset.Date.apply(lambda x: x[5:7])\n",
    "dataset['day'] = dataset.Date.apply(lambda x: x[8:10])\n",
    "\n",
    "# Write to CSV\n",
    "export_csv = dataset.to_csv (r'ML_dataset_filtered.csv', index = None, header=True) \n",
    "\n",
    "# The format of this dataset is as follows:\n",
    "# Each row is an observation of total daily energy availablity at a given station for a given day\n",
    "# There are 81 features:\n",
    "    # Latitude, longitude, elevation (3)\n",
    "    # 15 weather forecast variables at 5 timestamps (75)\n",
    "    # Year, month, day (3)\n",
    "\n",
    "# Aspects of the dataset that may change:\n",
    "    # The 11 prediction/forecast models have been reduced to a single weather forecast value by taking the median\n",
    "    # The prediction/forecast data is taken from the closest forecast gridpoint to the station\n",
    "    # As noted above, the 5 timestamps are used as seperate features"
   ]
  }
 ],
 "metadata": {
  "kernelspec": {
   "display_name": "Python 3",
   "language": "python",
   "name": "python3"
  },
  "language_info": {
   "codemirror_mode": {
    "name": "ipython",
    "version": 3
   },
   "file_extension": ".py",
   "mimetype": "text/x-python",
   "name": "python",
   "nbconvert_exporter": "python",
   "pygments_lexer": "ipython3",
   "version": "3.7.3"
  }
 },
 "nbformat": 4,
 "nbformat_minor": 2
}
