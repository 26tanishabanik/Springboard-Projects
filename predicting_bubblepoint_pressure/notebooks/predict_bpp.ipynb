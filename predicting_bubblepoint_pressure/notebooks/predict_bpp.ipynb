{
 "cells": [
  {
   "cell_type": "markdown",
   "metadata": {},
   "source": [
    "# Predicting Bubblepoint Pressure for Middle East Crude Oils using Random Forest Regression\n",
    "Connor McAnuff - November 2019\n",
    "\n",
    "For this project, I've taken a quick look at predicting bubblepoint pressure of Middle East crude oils using Pressure-Volume-Temperature (PVT) properties known to be correllated with bubblepoint pressure. This project is not intended to be a comprehensive assessment or state-of-the-art model - it is an exercise in implementing a random forest regression on scientific oil and gas data.\n",
    "\n",
    "Using a dataset of 160 oil/gas mixture samples, the tuned random forest model predicts on out-of-sample observations (20% of original dataset) the bubblepoint pressure with a mean absolute percentage error of 7.56%. The model was then used to predict the bubblepoint pressure of an additional 5 samples from a different source with a mean absolute percentage error of 7.59%, indicating that the model has generalized well (many more samples would be needed to confirm this conclusion). The results have been compared to those of Al-Mahroun (1988).\n",
    "\n",
    "## Contents:\n",
    "1) Project Background\n",
    "\n",
    "2) Data Importing\n",
    "\n",
    "3) Data Cleaning\n",
    "\n",
    "4) Data Exploration\n",
    "\n",
    "5) Al-Marhoun Predictions\n",
    "\n",
    "6) Random Forest Regression\n",
    "\n",
    "\n",
    "## References:\n",
    "[1] https://pdfs.semanticscholar.org/5c8a/3bb589dac09a96c9cf623795a74713c68f6b.pdf\n",
    "\n",
    "[2] https://www.researchgate.net/publication/240779975_PVT_Correlations_for_Middle_East_Crude_Oils\n",
    "\n",
    "[3] Reservoir Engineering Handbook, 4th Ed.\n"
   ]
  },
  {
   "cell_type": "markdown",
   "metadata": {},
   "source": [
    "## 1) Project Background"
   ]
  },
  {
   "cell_type": "markdown",
   "metadata": {},
   "source": [
    "### Why predict bubblepoint pressure?\n",
    "\n",
    "Bubblepoint pressure is required in the oil and gas industry for material balance calculations, analysis of well performance, reservoir simulation, and production engineering calculations. Furthermore, bubblepoint pressure is directly or indirectly involved in every oil property calculation. Thus, knowledge of bubblepoint pressure is crucial in the development of an oil field [1]. \n",
    "\n",
    "Estimating bubblepoint pressure has been the subject of many studies. The estimation methods make use of correlations between data typically available in the field (e.g. gas-oil ratio, gas specific gravity, oil gravity, and reservoir temperature) and bubblepoint pressure [1].\n",
    "\n",
    "There have been many studies in which machine learning has been used to estimate bubblepoint pressure:\n",
    "- [Artificial Intelligence Techniques for Predicting the Reservoir Fluid Properties of Crude Oil Systems](https://pdfs.semanticscholar.org/fa27/e9dcf8096164f529a5290df6cda8fa0b67c3.pdf)\n",
    "- [A comparative analysis of bubble point pressure prediction using advanced machine learning algorithms and classical correlations](https://www.researchgate.net/publication/336662731_A_comparative_analysis_of_bubble_point_pressure_prediction_using_advanced_machine_learning_algorithms_and_classical_correlations)\n",
    "- [Prediction of Bubble Point Pressure Using Artificial Intelligence AI Techniques](https://www.researchgate.net/publication/310622176_Prediction_of_Bubble_Point_Pressure_Using_Artificial_Intelligence_AI_Techniques)\n",
    "\n",
    "Let's give it a go ourselves!"
   ]
  },
  {
   "cell_type": "markdown",
   "metadata": {},
   "source": [
    "### Dataset"
   ]
  },
  {
   "cell_type": "markdown",
   "metadata": {},
   "source": [
    "The largest dataset I could find online for free was from a study by Muhammad All Al-Marhoun in May 1988 [2]. Certainly, there are more recent and comprehensive datasets existing, but for this project Al-Marhoun's dataset will serve our purposes fine.\n",
    "\n",
    "The dataset includes 160 observations of experimentally determined bubblepoint pressures of 69 different Middle East oil/gas mixtures. Given alongside bubblepoint pressure for each observation is Gas-Oil Ratio (GOR), Average Gas Relative Density (Yg), API Gravity at 60 deg. F (Yapi), and Temperature in Farenheit (Tf). "
   ]
  },
  {
   "cell_type": "markdown",
   "metadata": {},
   "source": [
    "## 1) Data Importing"
   ]
  },
  {
   "cell_type": "code",
   "execution_count": 7,
   "metadata": {},
   "outputs": [
    {
     "name": "stdout",
     "output_type": "stream",
     "text": [
      "The watermark extension is already loaded. To reload it, use:\n",
      "  %reload_ext watermark\n"
     ]
    }
   ],
   "source": [
    "%load_ext watermark"
   ]
  },
  {
   "cell_type": "code",
   "execution_count": 214,
   "metadata": {},
   "outputs": [
    {
     "name": "stdout",
     "output_type": "stream",
     "text": [
      "Connor McAnuff 2019-11-08 16:15:01 \n",
      "\n",
      "CPython 3.7.3\n",
      "IPython 7.4.0\n",
      "\n",
      "numpy 1.16.4\n",
      "pandas 0.24.2\n"
     ]
    }
   ],
   "source": [
    "%watermark -a \"Connor McAnuff\" -d -t -v -p numpy,pandas"
   ]
  },
  {
   "cell_type": "code",
   "execution_count": 9,
   "metadata": {},
   "outputs": [],
   "source": [
    "import numpy as np \n",
    "import pandas as pd\n",
    "import os\n",
    "import gc\n",
    "import matplotlib.pyplot as plt\n",
    "import seaborn as sns\n",
    "%matplotlib inline\n",
    "\n",
    "pal = sns.color_palette()\n",
    "\n",
    "from tqdm import tqdm_notebook as tqdm\n",
    "\n",
    "PROJ_ROOT = os.path.join(os.pardir)"
   ]
  },
  {
   "cell_type": "code",
   "execution_count": 181,
   "metadata": {},
   "outputs": [],
   "source": [
    "# Set paths to data\n",
    "data_path = str(os.path.join(PROJ_ROOT,\n",
    "                            'data',\n",
    "                            'raw',\n",
    "                             'bpp_data.csv'))\n",
    "\n",
    "ahmed_data_path = str(os.path.join(PROJ_ROOT,\n",
    "                            'data',\n",
    "                            'raw',\n",
    "                             'bpp_data_ahmed.csv'))\n",
    "\n",
    "output_model_path = str(os.path.join(PROJ_ROOT,\n",
    "                            'models\\\\'))"
   ]
  },
  {
   "cell_type": "code",
   "execution_count": 183,
   "metadata": {
    "scrolled": true
   },
   "outputs": [],
   "source": [
    "df = pd.read_csv(data_path, index_col='sample')"
   ]
  },
  {
   "cell_type": "code",
   "execution_count": 184,
   "metadata": {},
   "outputs": [
    {
     "data": {
      "text/html": [
       "<div>\n",
       "<style scoped>\n",
       "    .dataframe tbody tr th:only-of-type {\n",
       "        vertical-align: middle;\n",
       "    }\n",
       "\n",
       "    .dataframe tbody tr th {\n",
       "        vertical-align: top;\n",
       "    }\n",
       "\n",
       "    .dataframe thead th {\n",
       "        text-align: right;\n",
       "    }\n",
       "</style>\n",
       "<table border=\"1\" class=\"dataframe\">\n",
       "  <thead>\n",
       "    <tr style=\"text-align: right;\">\n",
       "      <th></th>\n",
       "      <th>bp_p</th>\n",
       "      <th>gor</th>\n",
       "      <th>yg</th>\n",
       "      <th>y_api</th>\n",
       "      <th>Tf</th>\n",
       "    </tr>\n",
       "    <tr>\n",
       "      <th>sample</th>\n",
       "      <th></th>\n",
       "      <th></th>\n",
       "      <th></th>\n",
       "      <th></th>\n",
       "      <th></th>\n",
       "    </tr>\n",
       "  </thead>\n",
       "  <tbody>\n",
       "    <tr>\n",
       "      <th>1</th>\n",
       "      <td>3,573</td>\n",
       "      <td>1,507</td>\n",
       "      <td>0.951.</td>\n",
       "      <td>39.3.</td>\n",
       "      <td>225</td>\n",
       "    </tr>\n",
       "    <tr>\n",
       "      <th>2</th>\n",
       "      <td>3,571</td>\n",
       "      <td>898</td>\n",
       "      <td>0.802.</td>\n",
       "      <td>32.7.</td>\n",
       "      <td>175</td>\n",
       "    </tr>\n",
       "    <tr>\n",
       "      <th>3</th>\n",
       "      <td>3,426</td>\n",
       "      <td>898</td>\n",
       "      <td>0.802.</td>\n",
       "      <td>32.7.</td>\n",
       "      <td>150</td>\n",
       "    </tr>\n",
       "    <tr>\n",
       "      <th>4</th>\n",
       "      <td>3,405</td>\n",
       "      <td>1,579</td>\n",
       "      <td>0.930.</td>\n",
       "      <td>42.8.</td>\n",
       "      <td>235</td>\n",
       "    </tr>\n",
       "    <tr>\n",
       "      <th>5</th>\n",
       "      <td>3,354</td>\n",
       "      <td>825</td>\n",
       "      <td>0.779.</td>\n",
       "      <td>34.2.</td>\n",
       "      <td>185</td>\n",
       "    </tr>\n",
       "  </tbody>\n",
       "</table>\n",
       "</div>"
      ],
      "text/plain": [
       "         bp_p    gor      yg  y_api   Tf\n",
       "sample                                  \n",
       "1       3,573  1,507  0.951.  39.3.  225\n",
       "2       3,571    898  0.802.  32.7.  175\n",
       "3       3,426    898  0.802.  32.7.  150\n",
       "4       3,405  1,579  0.930.  42.8.  235\n",
       "5       3,354    825  0.779.  34.2.  185"
      ]
     },
     "execution_count": 184,
     "metadata": {},
     "output_type": "execute_result"
    }
   ],
   "source": [
    "df.head()"
   ]
  },
  {
   "cell_type": "markdown",
   "metadata": {},
   "source": [
    "- bp_p: bubblepoint pressure (psia)\n",
    "- gor: gas-oil ratio (scf/STB)\n",
    "- yg: Average gas relative density (air = 1)\n",
    "- y_api: API gravity at 60 deg. F (deg. API)\n",
    "- Tf: Temperature (deg. F)"
   ]
  },
  {
   "cell_type": "markdown",
   "metadata": {},
   "source": [
    "## 2) Data Cleaning"
   ]
  },
  {
   "cell_type": "markdown",
   "metadata": {},
   "source": [
    "The data was sourced from a scanned PDF of the original paper by Al-Mahroun. The scanned pdf was automatically converted to text using a free online converter. The text was saved as a csv file and imported as a DataFrame above. 4 of the columns were imported as strings and include some characters we don't want - we can clean up the data using .str methods and convert to our datatype of choice.\n",
    "\n",
    "Additionally, the y_api and Tf columns will be converted to new units to match those in Al-Marhoun's equation. "
   ]
  },
  {
   "cell_type": "code",
   "execution_count": 185,
   "metadata": {},
   "outputs": [],
   "source": [
    "# Remove commas from bp_p and gor and convert to integers\n",
    "df['bp_p'] = df['bp_p'].str.replace(',', '').astype(int)\n",
    "df['gor'] = df['gor'].str.replace(',', '').astype(int)"
   ]
  },
  {
   "cell_type": "code",
   "execution_count": 188,
   "metadata": {},
   "outputs": [],
   "source": [
    "# Check to make sure every observation in yg ends in a decimal and remove, then convert to float\n",
    "for i, row in enumerate(df['yg']):\n",
    "    assert df['yg'].iloc[i][-1] == '.'\n",
    "        \n",
    "df['yg'] = df['yg'].str.rstrip('.').astype('float')"
   ]
  },
  {
   "cell_type": "code",
   "execution_count": 189,
   "metadata": {},
   "outputs": [],
   "source": [
    "# Check to make sure every observation in y_api ends in a decimal and remove, then convert to float\n",
    "for i, row in enumerate(df['y_api']):\n",
    "    assert df['y_api'].iloc[i][-1] == '.'\n",
    "        \n",
    "df['y_api'] = df['y_api'].str.rstrip('.').astype('float')"
   ]
  },
  {
   "cell_type": "code",
   "execution_count": 58,
   "metadata": {},
   "outputs": [],
   "source": [
    "# Convert y_api to y_0 (oil relative density (water = 1)) - to be used in Al-Marhoun's equation\n",
    "df['y_api'] = 141.5 / (df['y_api'] + 131.5)\n",
    "\n",
    "# Convert Tf to T (Rankin scale) - to be used in Al-Marhoun's equation\n",
    "df['Tf'] = df['Tf'] + 459.67\n",
    "\n",
    "# Rename columns\n",
    "df.columns = ['bp_p', 'gor', 'yg', 'y_0', 'T']"
   ]
  },
  {
   "cell_type": "code",
   "execution_count": 59,
   "metadata": {
    "scrolled": true
   },
   "outputs": [
    {
     "data": {
      "text/html": [
       "<div>\n",
       "<style scoped>\n",
       "    .dataframe tbody tr th:only-of-type {\n",
       "        vertical-align: middle;\n",
       "    }\n",
       "\n",
       "    .dataframe tbody tr th {\n",
       "        vertical-align: top;\n",
       "    }\n",
       "\n",
       "    .dataframe thead th {\n",
       "        text-align: right;\n",
       "    }\n",
       "</style>\n",
       "<table border=\"1\" class=\"dataframe\">\n",
       "  <thead>\n",
       "    <tr style=\"text-align: right;\">\n",
       "      <th></th>\n",
       "      <th>bp_p</th>\n",
       "      <th>gor</th>\n",
       "      <th>yg</th>\n",
       "      <th>y_0</th>\n",
       "      <th>T</th>\n",
       "    </tr>\n",
       "    <tr>\n",
       "      <th>sample</th>\n",
       "      <th></th>\n",
       "      <th></th>\n",
       "      <th></th>\n",
       "      <th></th>\n",
       "      <th></th>\n",
       "    </tr>\n",
       "  </thead>\n",
       "  <tbody>\n",
       "    <tr>\n",
       "      <th>1</th>\n",
       "      <td>3573</td>\n",
       "      <td>1507</td>\n",
       "      <td>0.95</td>\n",
       "      <td>0.83</td>\n",
       "      <td>684.67</td>\n",
       "    </tr>\n",
       "    <tr>\n",
       "      <th>2</th>\n",
       "      <td>3571</td>\n",
       "      <td>898</td>\n",
       "      <td>0.80</td>\n",
       "      <td>0.86</td>\n",
       "      <td>634.67</td>\n",
       "    </tr>\n",
       "    <tr>\n",
       "      <th>3</th>\n",
       "      <td>3426</td>\n",
       "      <td>898</td>\n",
       "      <td>0.80</td>\n",
       "      <td>0.86</td>\n",
       "      <td>609.67</td>\n",
       "    </tr>\n",
       "    <tr>\n",
       "      <th>4</th>\n",
       "      <td>3405</td>\n",
       "      <td>1579</td>\n",
       "      <td>0.93</td>\n",
       "      <td>0.81</td>\n",
       "      <td>694.67</td>\n",
       "    </tr>\n",
       "    <tr>\n",
       "      <th>5</th>\n",
       "      <td>3354</td>\n",
       "      <td>825</td>\n",
       "      <td>0.78</td>\n",
       "      <td>0.85</td>\n",
       "      <td>644.67</td>\n",
       "    </tr>\n",
       "  </tbody>\n",
       "</table>\n",
       "</div>"
      ],
      "text/plain": [
       "        bp_p   gor   yg  y_0      T\n",
       "sample                             \n",
       "1       3573  1507 0.95 0.83 684.67\n",
       "2       3571   898 0.80 0.86 634.67\n",
       "3       3426   898 0.80 0.86 609.67\n",
       "4       3405  1579 0.93 0.81 694.67\n",
       "5       3354   825 0.78 0.85 644.67"
      ]
     },
     "execution_count": 59,
     "metadata": {},
     "output_type": "execute_result"
    }
   ],
   "source": [
    "df.head()"
   ]
  },
  {
   "cell_type": "markdown",
   "metadata": {},
   "source": [
    "- bp_p: bubblepoint pressure (psia)\n",
    "- gor: gas-oil ratio (scf/STB)\n",
    "- yg: Average gas relative density (air = 1)\n",
    "- y_0: oil relative density (water = 1)\n",
    "- T: Temperature (deg. Rankine)"
   ]
  },
  {
   "cell_type": "code",
   "execution_count": 18,
   "metadata": {},
   "outputs": [
    {
     "data": {
      "text/html": [
       "<div>\n",
       "<style scoped>\n",
       "    .dataframe tbody tr th:only-of-type {\n",
       "        vertical-align: middle;\n",
       "    }\n",
       "\n",
       "    .dataframe tbody tr th {\n",
       "        vertical-align: top;\n",
       "    }\n",
       "\n",
       "    .dataframe thead th {\n",
       "        text-align: right;\n",
       "    }\n",
       "</style>\n",
       "<table border=\"1\" class=\"dataframe\">\n",
       "  <thead>\n",
       "    <tr style=\"text-align: right;\">\n",
       "      <th></th>\n",
       "      <th>bp_p</th>\n",
       "      <th>gor</th>\n",
       "      <th>yg</th>\n",
       "      <th>y_0</th>\n",
       "      <th>T</th>\n",
       "    </tr>\n",
       "  </thead>\n",
       "  <tbody>\n",
       "    <tr>\n",
       "      <th>count</th>\n",
       "      <td>160.00</td>\n",
       "      <td>160.00</td>\n",
       "      <td>160.00</td>\n",
       "      <td>160.00</td>\n",
       "      <td>160.00</td>\n",
       "    </tr>\n",
       "    <tr>\n",
       "      <th>mean</th>\n",
       "      <td>1731.12</td>\n",
       "      <td>557.54</td>\n",
       "      <td>0.97</td>\n",
       "      <td>0.86</td>\n",
       "      <td>604.41</td>\n",
       "    </tr>\n",
       "    <tr>\n",
       "      <th>std</th>\n",
       "      <td>1084.23</td>\n",
       "      <td>403.15</td>\n",
       "      <td>0.17</td>\n",
       "      <td>0.03</td>\n",
       "      <td>39.26</td>\n",
       "    </tr>\n",
       "    <tr>\n",
       "      <th>min</th>\n",
       "      <td>130.00</td>\n",
       "      <td>26.00</td>\n",
       "      <td>0.75</td>\n",
       "      <td>0.80</td>\n",
       "      <td>533.67</td>\n",
       "    </tr>\n",
       "    <tr>\n",
       "      <th>25%</th>\n",
       "      <td>596.75</td>\n",
       "      <td>194.25</td>\n",
       "      <td>0.80</td>\n",
       "      <td>0.84</td>\n",
       "      <td>559.67</td>\n",
       "    </tr>\n",
       "    <tr>\n",
       "      <th>50%</th>\n",
       "      <td>1868.50</td>\n",
       "      <td>560.00</td>\n",
       "      <td>0.93</td>\n",
       "      <td>0.86</td>\n",
       "      <td>609.67</td>\n",
       "    </tr>\n",
       "    <tr>\n",
       "      <th>75%</th>\n",
       "      <td>2660.75</td>\n",
       "      <td>782.00</td>\n",
       "      <td>1.06</td>\n",
       "      <td>0.88</td>\n",
       "      <td>634.67</td>\n",
       "    </tr>\n",
       "    <tr>\n",
       "      <th>max</th>\n",
       "      <td>3573.00</td>\n",
       "      <td>1602.00</td>\n",
       "      <td>1.37</td>\n",
       "      <td>0.94</td>\n",
       "      <td>699.67</td>\n",
       "    </tr>\n",
       "  </tbody>\n",
       "</table>\n",
       "</div>"
      ],
      "text/plain": [
       "         bp_p     gor     yg    y_0      T\n",
       "count  160.00  160.00 160.00 160.00 160.00\n",
       "mean  1731.12  557.54   0.97   0.86 604.41\n",
       "std   1084.23  403.15   0.17   0.03  39.26\n",
       "min    130.00   26.00   0.75   0.80 533.67\n",
       "25%    596.75  194.25   0.80   0.84 559.67\n",
       "50%   1868.50  560.00   0.93   0.86 609.67\n",
       "75%   2660.75  782.00   1.06   0.88 634.67\n",
       "max   3573.00 1602.00   1.37   0.94 699.67"
      ]
     },
     "execution_count": 18,
     "metadata": {},
     "output_type": "execute_result"
    }
   ],
   "source": [
    "pd.options.display.float_format = \"{:.2f}\".format\n",
    "df.describe()"
   ]
  },
  {
   "cell_type": "markdown",
   "metadata": {},
   "source": [
    "## 3) Data Exploration "
   ]
  },
  {
   "cell_type": "code",
   "execution_count": 19,
   "metadata": {},
   "outputs": [],
   "source": [
    "# Function for plotting a histogram given a pandas series\n",
    "def plot_hist(series, bins):\n",
    "    fig, ax = plt.subplots(figsize=(6,6))\n",
    "    plt.hist(series, bins=bins)\n",
    "    plt.xlabel(series.name)\n",
    "    plt.ylabel('Frequency')\n",
    "    plt.show()"
   ]
  },
  {
   "cell_type": "code",
   "execution_count": 20,
   "metadata": {
    "scrolled": false
   },
   "outputs": [
    {
     "data": {
      "image/png": "[encoded data removed]",
      "text/plain": [
       "<Figure size 432x432 with 1 Axes>"
      ]
     },
     "metadata": {
      "needs_background": "light"
     },
     "output_type": "display_data"
    },
    {
     "data": {
      "image/png": "[encoded data removed]",
      "text/plain": [
       "<Figure size 432x432 with 1 Axes>"
      ]
     },
     "metadata": {
      "needs_background": "light"
     },
     "output_type": "display_data"
    },
    {
     "data": {
      "image/png": "[encoded data removed]",
      "text/plain": [
       "<Figure size 432x432 with 1 Axes>"
      ]
     },
     "metadata": {
      "needs_background": "light"
     },
     "output_type": "display_data"
    },
    {
     "data": {
      "image/png": "[encoded data removed]",
      "text/plain": [
       "<Figure size 432x432 with 1 Axes>"
      ]
     },
     "metadata": {
      "needs_background": "light"
     },
     "output_type": "display_data"
    },
    {
     "data": {
      "image/png": "[encoded data removed]",
      "text/plain": [
       "<Figure size 432x432 with 1 Axes>"
      ]
     },
     "metadata": {
      "needs_background": "light"
     },
     "output_type": "display_data"
    }
   ],
   "source": [
    "# Plot the distributions of each df column\n",
    "for series in list(df):\n",
    "    plot_hist(series=df[series], bins=20)"
   ]
  },
  {
   "cell_type": "code",
   "execution_count": 21,
   "metadata": {},
   "outputs": [
    {
     "data": {
      "image/png": "[encoded data removed]",
      "text/plain": [
       "<Figure size 792x648 with 2 Axes>"
      ]
     },
     "metadata": {
      "needs_background": "light"
     },
     "output_type": "display_data"
    }
   ],
   "source": [
    "# Compute correlation matrix\n",
    "corr = df.corr()\n",
    "\n",
    "# Generate a mask for the upper triangle\n",
    "mask = np.zeros_like(corr, dtype=np.bool)\n",
    "mask[np.triu_indices_from(mask)] = True\n",
    "np.fill_diagonal(mask, False)\n",
    "\n",
    "# Set column labels\n",
    "column_labels = list(df)\n",
    "\n",
    "# Set up the matplotlib figure\n",
    "f, ax = plt.subplots(figsize=(11, 9))\n",
    "\n",
    "# Draw the heatmap with the mask\n",
    "sns.heatmap(corr, mask=mask, cmap='coolwarm', vmin=-1, vmax=1, center=0,\n",
    "            square=True, linewidths=.5, xticklabels=column_labels, yticklabels=column_labels)\n",
    "\n",
    "plt.show()"
   ]
  },
  {
   "cell_type": "markdown",
   "metadata": {},
   "source": [
    "Each of the target variables are correlated with bubblepoint pressure. Temperature has the weakest correlation. The features display multicollinearity. "
   ]
  },
  {
   "cell_type": "markdown",
   "metadata": {},
   "source": [
    "## 4) Al-Marhoun Predictions"
   ]
  },
  {
   "cell_type": "markdown",
   "metadata": {},
   "source": [
    "Al-Marhoun produced the following relationship using nonlinear multiple regression analysis. We can reproduce his estimates of bubblepoint pressure using this formula:"
   ]
  },
  {
   "attachments": {
    "image.png": {
     "image/png": "[encoded data removed]"
    }
   },
   "cell_type": "markdown",
   "metadata": {},
   "source": [
    "![image.png](attachment:image.png)"
   ]
  },
  {
   "cell_type": "code",
   "execution_count": 22,
   "metadata": {},
   "outputs": [],
   "source": [
    "# Calculate Al-Mahroun predictions (also given in his paper) using the above equation\n",
    "AM_pred = 5.38088 / 1000 *(df['gor'] ** 0.715082) * (df['yg'] ** -1.877840) * (df['y_0'] ** 3.143700) * ((df['T']) ** 1.326570)"
   ]
  },
  {
   "cell_type": "markdown",
   "metadata": {},
   "source": [
    "### Model Evaluation\n",
    "Al-Mahroun evaulated his model using the following metrics:\n",
    "- Average relative error (%)\n",
    "- Average absolute relative error (%)\n",
    "- Minimum absolute relative error (%)\n",
    "- Maximum absolute relative error (%)\n",
    "- Correlation Coefficient\n",
    "\n",
    "An important caveat is that these metrics were not calculated on out-of-sample data. Thus, the formula may be overfit to the specific dataset used. For evaluating our random forest model, the metrics will be calculated using a datatest set, previously unseen by the model, for a more accurate representation of how the model will perform when presented with new data."
   ]
  },
  {
   "cell_type": "code",
   "execution_count": 23,
   "metadata": {},
   "outputs": [],
   "source": [
    "from scipy.stats import pearsonr"
   ]
  },
  {
   "cell_type": "code",
   "execution_count": 190,
   "metadata": {},
   "outputs": [],
   "source": [
    "# Functions to calculate model evaluation metrics\n",
    "\n",
    "def mean_percentage_error(y_true, y_pred):\n",
    "    return np.mean((y_true - y_pred) / y_true) * 100\n",
    "\n",
    "def mean_absolute_percentage_error(y_true, y_pred): \n",
    "    return np.mean(np.abs((y_true - y_pred) / y_true)) * 100\n",
    "\n",
    "def min_absolute_percentage_error(y_true, y_pred):\n",
    "    return np.min(np.abs((y_true - y_pred) / y_true)) * 100\n",
    "\n",
    "def max_absolute_percentage_error(y_true, y_pred):\n",
    "    return np.max(np.abs((y_true - y_pred) / y_true)) * 100"
   ]
  },
  {
   "cell_type": "code",
   "execution_count": 25,
   "metadata": {
    "scrolled": true
   },
   "outputs": [
    {
     "name": "stdout",
     "output_type": "stream",
     "text": [
      "Al-Mahroun Model Evaluation Statistics:\n",
      "Mean percentage error: -0.19\n",
      "Mean absolute percentage error: 3.67\n",
      "Min absolute percentage error: 0.01\n",
      "Max absolute percentage error: 13.0\n",
      "Correlation coefficient: 0.997\n"
     ]
    }
   ],
   "source": [
    "print('Al-Mahroun Model Evaluation Statistics:')\n",
    "print('Mean percentage error: {}'.format(round(mean_percentage_error(df['bp_p'],AM_pred), 2)))\n",
    "print('Mean absolute percentage error: {}'.format(round(mean_absolute_percentage_error(df['bp_p'],AM_pred), 2)))\n",
    "print('Min absolute percentage error: {}'.format(round(min_absolute_percentage_error(df['bp_p'],AM_pred), 2)))\n",
    "print('Max absolute percentage error: {}'.format(round(max_absolute_percentage_error(df['bp_p'],AM_pred), 2)))\n",
    "print('Correlation coefficient: {}'.format(round(pearsonr(df['bp_p'],AM_pred)[0], 3)))"
   ]
  },
  {
   "cell_type": "markdown",
   "metadata": {},
   "source": [
    "## 5) Random Forest Regression"
   ]
  },
  {
   "cell_type": "markdown",
   "metadata": {},
   "source": [
    "### Why random forest regression?"
   ]
  },
  {
   "cell_type": "markdown",
   "metadata": {},
   "source": [
    "- Can be used with few observations to obtain predictive performance competing with best algorithms.\n",
    "- Simple implementation.\n",
    "- Handles missing data well (does not apply for this project)."
   ]
  },
  {
   "cell_type": "markdown",
   "metadata": {},
   "source": [
    "### Why NOT random forest regression?"
   ]
  },
  {
   "cell_type": "markdown",
   "metadata": {},
   "source": [
    "- Can be susceptible to overfitting.\n",
    "- Ensemble models inherently less interpretable than single decision tree.\n",
    "- Cannot make estimates for observations with values outside of the range of data used for fitting the model (i.e. cannot extrapolate)."
   ]
  },
  {
   "cell_type": "markdown",
   "metadata": {},
   "source": [
    "### Train-Test Split"
   ]
  },
  {
   "cell_type": "markdown",
   "metadata": {},
   "source": [
    "The dataset is small, but it must still be split into a train and test set to ensure our model is able to generalize. Alternatively, with so few observations, we could have evaluated based on cross-validation only, obtaining 3-10 measures of the evaluation criteria."
   ]
  },
  {
   "cell_type": "code",
   "execution_count": 26,
   "metadata": {},
   "outputs": [],
   "source": [
    "from sklearn.model_selection import train_test_split\n",
    "from sklearn.model_selection import RandomizedSearchCV\n",
    "from sklearn.model_selection import GridSearchCV\n",
    "from sklearn.ensemble import RandomForestRegressor"
   ]
  },
  {
   "cell_type": "code",
   "execution_count": 27,
   "metadata": {},
   "outputs": [],
   "source": [
    "# Set features\n",
    "X = df.drop(['bp_p'], axis=1)\n",
    "\n",
    "# Set target variable\n",
    "y = df['bp_p']"
   ]
  },
  {
   "cell_type": "code",
   "execution_count": 28,
   "metadata": {},
   "outputs": [],
   "source": [
    "# Split data into train and test sets - keep 20% for testing\n",
    "X_train, X_test, y_train, y_test = train_test_split(X, y, test_size=0.2, random_state=42)"
   ]
  },
  {
   "cell_type": "markdown",
   "metadata": {},
   "source": [
    "### RandomizedSearchCV - Hyperparameter tuning"
   ]
  },
  {
   "cell_type": "markdown",
   "metadata": {},
   "source": [
    "Tuning hyperparameters is an important part of random forest implementation. We'll start with a randomized search and then try and improve further using a grid search."
   ]
  },
  {
   "cell_type": "code",
   "execution_count": 29,
   "metadata": {},
   "outputs": [],
   "source": [
    "# Initialize random forest regressor\n",
    "rf_reg = RandomForestRegressor()"
   ]
  },
  {
   "cell_type": "code",
   "execution_count": 191,
   "metadata": {},
   "outputs": [],
   "source": [
    "# Setting hyperparameter search space for RandomizedSearchCV\n",
    "\n",
    "# Number of trees in random forest\n",
    "n_estimators = [int(x) for x in np.linspace(start = 100, stop = 5000, num = 10)]\n",
    "# Number of features to consider at every split\n",
    "max_features = ['auto', 'log2', None]\n",
    "# Maximum number of levels in tree\n",
    "max_depth = [int(x) for x in np.linspace(2, 182, num = 10)]\n",
    "max_depth.append(None)\n",
    "# Minimum number of samples required to split a node\n",
    "min_samples_split = [2, 3, 4, 5, 10, 15, 20]\n",
    "# Minimum number of samples required at each leaf node\n",
    "min_samples_leaf = [1, 2, 3, 4, 5, 6, 7, 8, 9, 10]\n",
    "# Method of selecting samples for training each tree\n",
    "bootstrap = [True, False]"
   ]
  },
  {
   "cell_type": "code",
   "execution_count": 192,
   "metadata": {},
   "outputs": [],
   "source": [
    "# Create randomized search grid dictionary\n",
    "random_grid = {'n_estimators': n_estimators,\n",
    "               'max_features': max_features,\n",
    "               'max_depth': max_depth,\n",
    "               'min_samples_split': min_samples_split,\n",
    "               'min_samples_leaf': min_samples_leaf,\n",
    "               'bootstrap': bootstrap}"
   ]
  },
  {
   "cell_type": "code",
   "execution_count": 193,
   "metadata": {},
   "outputs": [],
   "source": [
    "# Create randomizedsearchCV object - 5 fold cross validation, 1000 iterations\n",
    "rf_random = RandomizedSearchCV(estimator = rf_reg, param_distributions = random_grid, n_iter = 1000, cv = 5, verbose=2, random_state=42, n_jobs = -1)"
   ]
  },
  {
   "cell_type": "code",
   "execution_count": 194,
   "metadata": {},
   "outputs": [
    {
     "name": "stdout",
     "output_type": "stream",
     "text": [
      "Fitting 5 folds for each of 1000 candidates, totalling 5000 fits\n"
     ]
    },
    {
     "name": "stderr",
     "output_type": "stream",
     "text": [
      "[Parallel(n_jobs=-1)]: Using backend LokyBackend with 8 concurrent workers.\n",
      "[Parallel(n_jobs=-1)]: Done  25 tasks      | elapsed:   18.1s\n",
      "[Parallel(n_jobs=-1)]: Done 146 tasks      | elapsed:  1.4min\n",
      "[Parallel(n_jobs=-1)]: Done 349 tasks      | elapsed:  3.1min\n",
      "[Parallel(n_jobs=-1)]: Done 632 tasks      | elapsed:  5.0min\n",
      "[Parallel(n_jobs=-1)]: Done 997 tasks      | elapsed:  7.6min\n",
      "[Parallel(n_jobs=-1)]: Done 1442 tasks      | elapsed: 10.5min\n",
      "[Parallel(n_jobs=-1)]: Done 1969 tasks      | elapsed: 14.1min\n",
      "[Parallel(n_jobs=-1)]: Done 2576 tasks      | elapsed: 18.4min\n",
      "[Parallel(n_jobs=-1)]: Done 3265 tasks      | elapsed: 23.3min\n",
      "[Parallel(n_jobs=-1)]: Done 4034 tasks      | elapsed: 29.2min\n",
      "[Parallel(n_jobs=-1)]: Done 4885 tasks      | elapsed: 35.8min\n",
      "[Parallel(n_jobs=-1)]: Done 5000 out of 5000 | elapsed: 36.9min finished\n",
      "C:\\Users\\conno\\Anaconda3\\envs\\Springboard\\lib\\site-packages\\sklearn\\model_selection\\_search.py:813: DeprecationWarning: The default of the `iid` parameter will change from True to False in version 0.22 and will be removed in 0.24. This will change numeric results when test-set sizes are unequal.\n",
      "  DeprecationWarning)\n"
     ]
    },
    {
     "data": {
      "text/plain": [
       "RandomizedSearchCV(cv=5, error_score='raise-deprecating',\n",
       "                   estimator=RandomForestRegressor(bootstrap=True,\n",
       "                                                   criterion='mse',\n",
       "                                                   max_depth=None,\n",
       "                                                   max_features='auto',\n",
       "                                                   max_leaf_nodes=None,\n",
       "                                                   min_impurity_decrease=0.0,\n",
       "                                                   min_impurity_split=None,\n",
       "                                                   min_samples_leaf=1,\n",
       "                                                   min_samples_split=2,\n",
       "                                                   min_weight_fraction_leaf=0.0,\n",
       "                                                   n_estimators='warn',\n",
       "                                                   n_jobs=None, oob_score=False,\n",
       "                                                   random_sta...\n",
       "                   param_distributions={'bootstrap': [True, False],\n",
       "                                        'max_depth': [2, 22, 42, 62, 82, 102,\n",
       "                                                      122, 142, 162, 182,\n",
       "                                                      None],\n",
       "                                        'max_features': ['auto', 'log2', None],\n",
       "                                        'min_samples_leaf': [1, 2, 3, 4, 5, 6,\n",
       "                                                             7, 8, 9, 10],\n",
       "                                        'min_samples_split': [2, 3, 4, 5, 10,\n",
       "                                                              15, 20],\n",
       "                                        'n_estimators': [100, 644, 1188, 1733,\n",
       "                                                         2277, 2822, 3366, 3911,\n",
       "                                                         4455, 5000]},\n",
       "                   pre_dispatch='2*n_jobs', random_state=42, refit=True,\n",
       "                   return_train_score=False, scoring=None, verbose=2)"
      ]
     },
     "execution_count": 194,
     "metadata": {},
     "output_type": "execute_result"
    }
   ],
   "source": [
    "# Perform randomized search\n",
    "rf_random.fit(X_train, y_train)"
   ]
  },
  {
   "cell_type": "code",
   "execution_count": 195,
   "metadata": {
    "scrolled": true
   },
   "outputs": [
    {
     "data": {
      "text/plain": [
       "{'n_estimators': 5000,\n",
       " 'min_samples_split': 2,\n",
       " 'min_samples_leaf': 1,\n",
       " 'max_features': None,\n",
       " 'max_depth': 162,\n",
       " 'bootstrap': True}"
      ]
     },
     "execution_count": 195,
     "metadata": {},
     "output_type": "execute_result"
    }
   ],
   "source": [
    "# List the best parameters\n",
    "rf_random.best_params_"
   ]
  },
  {
   "cell_type": "code",
   "execution_count": 196,
   "metadata": {},
   "outputs": [
    {
     "data": {
      "text/plain": [
       "7.573313955515304"
      ]
     },
     "execution_count": 196,
     "metadata": {},
     "output_type": "execute_result"
    }
   ],
   "source": [
    "# Create a new model based on the best parameters found using randomizedsearchCV\n",
    "rf_reg_opt = rf_random.best_estimator_\n",
    "rf_reg_opt.fit(X_train, y_train)\n",
    "mean_absolute_percentage_error(y_test, rf_reg_opt.predict(X_test))"
   ]
  },
  {
   "cell_type": "code",
   "execution_count": 197,
   "metadata": {},
   "outputs": [],
   "source": [
    "# Save the model so the same process will not need to be re-run\n",
    "import pickle\n",
    "rf_reg_opt_pickle = \"rf_reg_opt.pkl\"\n",
    "with open(output_model_path + rf_reg_opt_pickle, 'wb') as file:\n",
    "    pickle.dump(rf_reg_opt, file)"
   ]
  },
  {
   "cell_type": "code",
   "execution_count": 46,
   "metadata": {},
   "outputs": [],
   "source": [
    "# Load the model saved\n",
    "rf_reg_opt_pickle = \"rf_reg_opt.pkl\"\n",
    "with open(output_model_path + rf_reg_opt_pickle, 'rb') as file:\n",
    "    rf_reg_opt = pickle.load(file)"
   ]
  },
  {
   "cell_type": "markdown",
   "metadata": {},
   "source": [
    "### GridSearchCV - Hyperparameter tuning"
   ]
  },
  {
   "cell_type": "markdown",
   "metadata": {},
   "source": [
    "After using randomized search, it's worth trying to improve the hyperparameter selection further by using gridsearchCV in the areas of the previously found best parameters."
   ]
  },
  {
   "cell_type": "code",
   "execution_count": 198,
   "metadata": {},
   "outputs": [],
   "source": [
    "# Number of trees in random forest\n",
    "gs_n_estimators = [int(x) for x in np.linspace(start = 4500, stop = 5500, num = 50)]\n",
    "# Number of features to consider at every split\n",
    "gs_max_features = [None]\n",
    "# Maximum number of levels in tree\n",
    "gs_max_depth = [int(x) for x in np.linspace(140, 180, num = 2)]\n",
    "gs_max_depth.append(None)\n",
    "# Minimum number of samples required to split a node\n",
    "gs_min_samples_split = [2, 3, 4]\n",
    "# Minimum number of samples required at each leaf node\n",
    "gs_min_samples_leaf = [1, 2, 3]\n",
    "# Method of selecting samples for training each tree\n",
    "gs_bootstrap = [True]"
   ]
  },
  {
   "cell_type": "code",
   "execution_count": 199,
   "metadata": {},
   "outputs": [],
   "source": [
    "# Create grid search dictionary\n",
    "gs_grid = {'n_estimators': gs_n_estimators,\n",
    "               'max_features': gs_max_features,\n",
    "               'max_depth': gs_max_depth,\n",
    "               'min_samples_split': gs_min_samples_split,\n",
    "               'min_samples_leaf': gs_min_samples_leaf,\n",
    "               'bootstrap': gs_bootstrap}"
   ]
  },
  {
   "cell_type": "code",
   "execution_count": 200,
   "metadata": {},
   "outputs": [],
   "source": [
    "# Create gridsearchCV object - 3 fold cross validation\n",
    "rf_grid = RandomizedSearchCV(estimator = rf_reg, param_distributions = gs_grid, cv = 5, verbose=2, random_state=42, n_jobs = -1)"
   ]
  },
  {
   "cell_type": "code",
   "execution_count": 201,
   "metadata": {},
   "outputs": [
    {
     "name": "stdout",
     "output_type": "stream",
     "text": [
      "Fitting 5 folds for each of 10 candidates, totalling 50 fits\n"
     ]
    },
    {
     "name": "stderr",
     "output_type": "stream",
     "text": [
      "[Parallel(n_jobs=-1)]: Using backend LokyBackend with 8 concurrent workers.\n",
      "[Parallel(n_jobs=-1)]: Done  25 tasks      | elapsed:   27.3s\n",
      "[Parallel(n_jobs=-1)]: Done  50 out of  50 | elapsed:   49.9s finished\n"
     ]
    },
    {
     "data": {
      "text/plain": [
       "RandomizedSearchCV(cv=5, error_score='raise-deprecating',\n",
       "                   estimator=RandomForestRegressor(bootstrap=True,\n",
       "                                                   criterion='mse',\n",
       "                                                   max_depth=None,\n",
       "                                                   max_features='auto',\n",
       "                                                   max_leaf_nodes=None,\n",
       "                                                   min_impurity_decrease=0.0,\n",
       "                                                   min_impurity_split=None,\n",
       "                                                   min_samples_leaf=1,\n",
       "                                                   min_samples_split=2,\n",
       "                                                   min_weight_fraction_leaf=0.0,\n",
       "                                                   n_estimators='warn',\n",
       "                                                   n_jobs=None, oob_score=False,\n",
       "                                                   random_sta...\n",
       "                                        'max_depth': [140, 180, None],\n",
       "                                        'max_features': [None],\n",
       "                                        'min_samples_leaf': [1, 2, 3],\n",
       "                                        'min_samples_split': [2, 3, 4],\n",
       "                                        'n_estimators': [4500, 4520, 4540, 4561,\n",
       "                                                         4581, 4602, 4622, 4642,\n",
       "                                                         4663, 4683, 4704, 4724,\n",
       "                                                         4744, 4765, 4785, 4806,\n",
       "                                                         4826, 4846, 4867, 4887,\n",
       "                                                         4908, 4928, 4948, 4969,\n",
       "                                                         4989, 5010, 5030, 5051,\n",
       "                                                         5071, 5091, ...]},\n",
       "                   pre_dispatch='2*n_jobs', random_state=42, refit=True,\n",
       "                   return_train_score=False, scoring=None, verbose=2)"
      ]
     },
     "execution_count": 201,
     "metadata": {},
     "output_type": "execute_result"
    }
   ],
   "source": [
    "# Perform grid search\n",
    "rf_grid.fit(X_train, y_train)"
   ]
  },
  {
   "cell_type": "code",
   "execution_count": 202,
   "metadata": {},
   "outputs": [
    {
     "data": {
      "text/plain": [
       "{'n_estimators': 4826,\n",
       " 'min_samples_split': 2,\n",
       " 'min_samples_leaf': 1,\n",
       " 'max_features': None,\n",
       " 'max_depth': 180,\n",
       " 'bootstrap': True}"
      ]
     },
     "execution_count": 202,
     "metadata": {},
     "output_type": "execute_result"
    }
   ],
   "source": [
    "# List best parameters from grid search\n",
    "rf_grid.best_params_"
   ]
  },
  {
   "cell_type": "code",
   "execution_count": 204,
   "metadata": {},
   "outputs": [
    {
     "data": {
      "text/plain": [
       "7.555185902809407"
      ]
     },
     "execution_count": 204,
     "metadata": {},
     "output_type": "execute_result"
    }
   ],
   "source": [
    "# Create a new model based on the best parameters found using gridsearchCV\n",
    "rf_reg_opt_grid = rf_grid.best_estimator_\n",
    "rf_reg_opt_grid.fit(X_train, y_train)\n",
    "mean_absolute_percentage_error(y_test, rf_reg_opt_grid.predict(X_test))"
   ]
  },
  {
   "cell_type": "markdown",
   "metadata": {},
   "source": [
    "Mean absolute percentage error has decreased very slightly! Further marginal improvements could likely be made here by running the random search again, or by running the grid search with a more granular grid."
   ]
  },
  {
   "cell_type": "code",
   "execution_count": 205,
   "metadata": {},
   "outputs": [
    {
     "name": "stdout",
     "output_type": "stream",
     "text": [
      "Random Forest Regression Model Evaluation Statistics:\n",
      "Mean percentage error: -1.75\n",
      "Mean absolute percentage error: 7.56\n",
      "Min absolute percentage error: 0.66\n",
      "Max absolute percentage error: 23.54\n",
      "Correlation coefficient: 0.992\n"
     ]
    }
   ],
   "source": [
    "print('Random Forest Regression Model Evaluation Statistics:')\n",
    "print('Mean percentage error: {}'.format(round(mean_percentage_error(y_test,rf_reg_opt_grid.predict(X_test)), 2)))\n",
    "print('Mean absolute percentage error: {}'.format(round(mean_absolute_percentage_error(y_test,rf_reg_opt_grid.predict(X_test)), 2)))\n",
    "print('Min absolute percentage error: {}'.format(round(min_absolute_percentage_error(y_test,rf_reg_opt_grid.predict(X_test)), 2)))\n",
    "print('Max absolute percentage error: {}'.format(round(max_absolute_percentage_error(y_test,rf_reg_opt_grid.predict(X_test)), 2)))\n",
    "print('Correlation coefficient: {}'.format(round(pearsonr(y_test,rf_reg_opt_grid.predict(X_test))[0], 3)))"
   ]
  },
  {
   "cell_type": "code",
   "execution_count": 207,
   "metadata": {
    "scrolled": false
   },
   "outputs": [
    {
     "data": {
      "image/png": "[encoded data removed]",
      "text/plain": [
       "<Figure size 864x864 with 1 Axes>"
      ]
     },
     "metadata": {
      "needs_background": "light"
     },
     "output_type": "display_data"
    }
   ],
   "source": [
    "# Plot the predicted values vs the actual values of bubblepoint pressure\n",
    "\n",
    "# Calculate Al-Mahroun predictions (also given in his paper) using the above equation\n",
    "AM_pred_ytest = 5.38088 / 1000 *(X_test['gor'] ** 0.715082) * (X_test['yg'] ** -1.877840) * (X_test['y_0'] ** 3.143700) * ((X_test['T']) ** 1.326570)\n",
    "\n",
    "fig, ax = plt.subplots(figsize=(12, 12))\n",
    "plt.scatter(y_test, rf_reg_opt_grid.predict(X_test), s=25, c='blue')\n",
    "plt.scatter(y_test, AM_pred_ytest, s=25,  c='red')\n",
    "plt.legend(['Random Forest Prediction', 'Al-Mahroun Prediction'])\n",
    "plt.plot([0,3500], [0,3500], '-', c='black')\n",
    "plt.xlabel(\"Test Data Experimental Value\", fontsize=15)\n",
    "plt.ylabel(\"Test Data Predicted Value\", fontsize=15)\n",
    "\n",
    "ax.spines['top'].set_color('none')\n",
    "ax.spines['right'].set_color('none')\n",
    "\n",
    "plt.savefig('1a_fitted_vs_actual', bbox_inches='tight')\n",
    "\n",
    "plt.show()"
   ]
  },
  {
   "cell_type": "markdown",
   "metadata": {},
   "source": [
    "A further 5 datapoints were sourced from the Reservoir Engineering Handbook, 4th Ed [3]. While it has very few datapoints, it's worth taking a look at how Al-Mahroun's and the random forest models predict the bubblepoint pressure for a new dataset. It is not stated in the textbook the source of the measurements. "
   ]
  },
  {
   "cell_type": "markdown",
   "metadata": {},
   "source": [
    "Importing the data and cleaning as with the initial data:"
   ]
  },
  {
   "cell_type": "code",
   "execution_count": 208,
   "metadata": {},
   "outputs": [],
   "source": [
    "df_ahmed = pd.read_csv(ahmed_data_path, index_col='sample')\n",
    "df_ahmed = df_ahmed.iloc[:5, :]"
   ]
  },
  {
   "cell_type": "code",
   "execution_count": 209,
   "metadata": {},
   "outputs": [
    {
     "data": {
      "text/html": [
       "<div>\n",
       "<style scoped>\n",
       "    .dataframe tbody tr th:only-of-type {\n",
       "        vertical-align: middle;\n",
       "    }\n",
       "\n",
       "    .dataframe tbody tr th {\n",
       "        vertical-align: top;\n",
       "    }\n",
       "\n",
       "    .dataframe thead th {\n",
       "        text-align: right;\n",
       "    }\n",
       "</style>\n",
       "<table border=\"1\" class=\"dataframe\">\n",
       "  <thead>\n",
       "    <tr style=\"text-align: right;\">\n",
       "      <th></th>\n",
       "      <th>bp_p</th>\n",
       "      <th>gor</th>\n",
       "      <th>yg</th>\n",
       "      <th>y_api</th>\n",
       "      <th>Tf</th>\n",
       "    </tr>\n",
       "    <tr>\n",
       "      <th>sample</th>\n",
       "      <th></th>\n",
       "      <th></th>\n",
       "      <th></th>\n",
       "      <th></th>\n",
       "      <th></th>\n",
       "    </tr>\n",
       "  </thead>\n",
       "  <tbody>\n",
       "    <tr>\n",
       "      <th>1.00</th>\n",
       "      <td>2,377</td>\n",
       "      <td>751.00</td>\n",
       "      <td>0.85</td>\n",
       "      <td>47.10</td>\n",
       "      <td>250.00</td>\n",
       "    </tr>\n",
       "    <tr>\n",
       "      <th>2.00</th>\n",
       "      <td>2620</td>\n",
       "      <td>768.00</td>\n",
       "      <td>0.85</td>\n",
       "      <td>40.70</td>\n",
       "      <td>220.00</td>\n",
       "    </tr>\n",
       "    <tr>\n",
       "      <th>3.00</th>\n",
       "      <td>2051</td>\n",
       "      <td>693.00</td>\n",
       "      <td>0.91</td>\n",
       "      <td>48.60</td>\n",
       "      <td>260.00</td>\n",
       "    </tr>\n",
       "    <tr>\n",
       "      <th>4.00</th>\n",
       "      <td>2,884</td>\n",
       "      <td>968.00</td>\n",
       "      <td>0.90</td>\n",
       "      <td>40.50</td>\n",
       "      <td>237.00</td>\n",
       "    </tr>\n",
       "    <tr>\n",
       "      <th>5.00</th>\n",
       "      <td>3065</td>\n",
       "      <td>943.00</td>\n",
       "      <td>0.78</td>\n",
       "      <td>44.20</td>\n",
       "      <td>218.00</td>\n",
       "    </tr>\n",
       "  </tbody>\n",
       "</table>\n",
       "</div>"
      ],
      "text/plain": [
       "         bp_p    gor   yg  y_api     Tf\n",
       "sample                                 \n",
       "1.00    2,377 751.00 0.85  47.10 250.00\n",
       "2.00     2620 768.00 0.85  40.70 220.00\n",
       "3.00     2051 693.00 0.91  48.60 260.00\n",
       "4.00    2,884 968.00 0.90  40.50 237.00\n",
       "5.00     3065 943.00 0.78  44.20 218.00"
      ]
     },
     "execution_count": 209,
     "metadata": {},
     "output_type": "execute_result"
    }
   ],
   "source": [
    "df_ahmed.head(10)"
   ]
  },
  {
   "cell_type": "code",
   "execution_count": 210,
   "metadata": {},
   "outputs": [],
   "source": [
    "# Remove commas from bp_p and convert to integers\n",
    "df_ahmed['bp_p'] = df_ahmed['bp_p'].str.replace(',', '').astype(int) + 14.7 #psig to psia\n",
    "\n",
    "# Convert y_api to y_0 (oil relative density (water = 1))\n",
    "df_ahmed['y_api'] = 141.5 / (df_ahmed['y_api'] + 131.5)\n",
    "\n",
    "# Convert Tf to T (Rankin scale)\n",
    "df_ahmed['Tf'] = df_ahmed['Tf'] + 459.67\n",
    "\n",
    "# Rename columns\n",
    "df_ahmed.columns = ['bp_p', 'gor', 'yg', 'y_0', 'T']"
   ]
  },
  {
   "cell_type": "code",
   "execution_count": 211,
   "metadata": {},
   "outputs": [
    {
     "data": {
      "text/html": [
       "<div>\n",
       "<style scoped>\n",
       "    .dataframe tbody tr th:only-of-type {\n",
       "        vertical-align: middle;\n",
       "    }\n",
       "\n",
       "    .dataframe tbody tr th {\n",
       "        vertical-align: top;\n",
       "    }\n",
       "\n",
       "    .dataframe thead th {\n",
       "        text-align: right;\n",
       "    }\n",
       "</style>\n",
       "<table border=\"1\" class=\"dataframe\">\n",
       "  <thead>\n",
       "    <tr style=\"text-align: right;\">\n",
       "      <th></th>\n",
       "      <th>bp_p</th>\n",
       "      <th>gor</th>\n",
       "      <th>yg</th>\n",
       "      <th>y_0</th>\n",
       "      <th>T</th>\n",
       "    </tr>\n",
       "    <tr>\n",
       "      <th>sample</th>\n",
       "      <th></th>\n",
       "      <th></th>\n",
       "      <th></th>\n",
       "      <th></th>\n",
       "      <th></th>\n",
       "    </tr>\n",
       "  </thead>\n",
       "  <tbody>\n",
       "    <tr>\n",
       "      <th>1.00</th>\n",
       "      <td>2391.70</td>\n",
       "      <td>751.00</td>\n",
       "      <td>0.85</td>\n",
       "      <td>0.79</td>\n",
       "      <td>709.67</td>\n",
       "    </tr>\n",
       "    <tr>\n",
       "      <th>2.00</th>\n",
       "      <td>2634.70</td>\n",
       "      <td>768.00</td>\n",
       "      <td>0.85</td>\n",
       "      <td>0.82</td>\n",
       "      <td>679.67</td>\n",
       "    </tr>\n",
       "    <tr>\n",
       "      <th>3.00</th>\n",
       "      <td>2065.70</td>\n",
       "      <td>693.00</td>\n",
       "      <td>0.91</td>\n",
       "      <td>0.79</td>\n",
       "      <td>719.67</td>\n",
       "    </tr>\n",
       "    <tr>\n",
       "      <th>4.00</th>\n",
       "      <td>2898.70</td>\n",
       "      <td>968.00</td>\n",
       "      <td>0.90</td>\n",
       "      <td>0.82</td>\n",
       "      <td>696.67</td>\n",
       "    </tr>\n",
       "    <tr>\n",
       "      <th>5.00</th>\n",
       "      <td>3079.70</td>\n",
       "      <td>943.00</td>\n",
       "      <td>0.78</td>\n",
       "      <td>0.81</td>\n",
       "      <td>677.67</td>\n",
       "    </tr>\n",
       "  </tbody>\n",
       "</table>\n",
       "</div>"
      ],
      "text/plain": [
       "          bp_p    gor   yg  y_0      T\n",
       "sample                                \n",
       "1.00   2391.70 751.00 0.85 0.79 709.67\n",
       "2.00   2634.70 768.00 0.85 0.82 679.67\n",
       "3.00   2065.70 693.00 0.91 0.79 719.67\n",
       "4.00   2898.70 968.00 0.90 0.82 696.67\n",
       "5.00   3079.70 943.00 0.78 0.81 677.67"
      ]
     },
     "execution_count": 211,
     "metadata": {},
     "output_type": "execute_result"
    }
   ],
   "source": [
    "df_ahmed.head(10)"
   ]
  },
  {
   "cell_type": "code",
   "execution_count": 112,
   "metadata": {},
   "outputs": [],
   "source": [
    "# Calculate Al-Mahroun predictions for the ahmed dataset\n",
    "\n",
    "AM_pred_ahmed = 5.38088 / 1000 *(df_ahmed['gor'] ** 0.715082) * (df_ahmed['yg'] ** -1.877840) * (df_ahmed['y_0'] ** 3.143700) * (df_ahmed['T'] ** 1.326570)"
   ]
  },
  {
   "cell_type": "code",
   "execution_count": 113,
   "metadata": {},
   "outputs": [
    {
     "data": {
      "text/plain": [
       "2.997898368566947"
      ]
     },
     "execution_count": 113,
     "metadata": {},
     "output_type": "execute_result"
    }
   ],
   "source": [
    "# Mean absolute percentage error for Al-Mahroun's predictions:\n",
    "mean_absolute_percentage_error(df_ahmed['bp_p'], AM_pred_ahmed)"
   ]
  },
  {
   "cell_type": "code",
   "execution_count": 212,
   "metadata": {},
   "outputs": [
    {
     "data": {
      "text/plain": [
       "7.594918413277059"
      ]
     },
     "execution_count": 212,
     "metadata": {},
     "output_type": "execute_result"
    }
   ],
   "source": [
    "# Mean absolute percentage error for random forest predictions:\n",
    "mean_absolute_percentage_error(df_ahmed['bp_p'], rf_reg_opt_grid.predict(df_ahmed.drop(['bp_p'], axis=1)))"
   ]
  },
  {
   "cell_type": "code",
   "execution_count": 213,
   "metadata": {},
   "outputs": [
    {
     "data": {
      "image/png": "[encoded data removed]",
      "text/plain": [
       "<Figure size 864x864 with 1 Axes>"
      ]
     },
     "metadata": {
      "needs_background": "light"
     },
     "output_type": "display_data"
    }
   ],
   "source": [
    "# Plot the predicted values vs the actual values of bubblepoint pressure\n",
    "\n",
    "fig, ax = plt.subplots(figsize=(12, 12))\n",
    "plt.scatter(df_ahmed['bp_p'], rf_reg_opt_grid.predict(df_ahmed.drop(['bp_p'], axis=1)), s=25, c='blue')\n",
    "plt.scatter(df_ahmed['bp_p'], AM_pred_ahmed, s=25,  c='red')\n",
    "plt.legend(['Random Forest Prediction', 'Al-Mahroun Prediction'])\n",
    "plt.plot([0,3500], [0,3500], '-', c='black')\n",
    "plt.xlabel(\"Test Data Fitted Value\", fontsize=15)\n",
    "plt.ylabel(\"Test Data Actual Value\", fontsize=15)\n",
    "\n",
    "ax.spines['top'].set_color('none')\n",
    "ax.spines['right'].set_color('none')\n",
    "\n",
    "plt.savefig('1a_fitted_vs_actual', bbox_inches='tight')\n",
    "\n",
    "plt.show()"
   ]
  },
  {
   "cell_type": "markdown",
   "metadata": {},
   "source": [
    "## Conclusions:"
   ]
  },
  {
   "cell_type": "markdown",
   "metadata": {},
   "source": [
    "- Random Forest Regression allows for prediction of bubblepoint pressure using 3 commonly available field data attributes with a mean absolute percentage error of 7.56%. This error is ~2x the mean absolute percentage error achieved by Al-Mahroun, however it is calculated out-of-sample, showing that the model has the ability to generalize. \n",
    "\n",
    "\n",
    "- Further predictions on a new dataset of 5 samples showed that the random forest model predicted bubblepoint pressure with a mean absolute percentage error of 7.59%, further indicating the model generalizes well. Al-Mahroun's formula predicted with similar accuracy as for the initial data, indicating that his model can generalize as well.\n",
    "\n",
    "\n",
    "- The total datapoints analyzed is very small, so these results should be considered with caution.\n",
    "\n",
    "\n",
    "- This model is valid only for predicting bubblepoint pressures with PVT properties in the range of the data used to fit the model (i.e., the raw dataset).\n",
    "\n",
    "\n",
    "- A quick and simple implementation of a random forest regression has yielded promising results. Further work on this project could be comparing these results to that of an artificial neural network. Having more available data to work with would allow for greater confidence in model assessment. "
   ]
  }
 ],
 "metadata": {
  "kernelspec": {
   "display_name": "Python 3",
   "language": "python",
   "name": "python3"
  },
  "language_info": {
   "codemirror_mode": {
    "name": "ipython",
    "version": 3
   },
   "file_extension": ".py",
   "mimetype": "text/x-python",
   "name": "python",
   "nbconvert_exporter": "python",
   "pygments_lexer": "ipython3",
   "version": "3.7.3"
  }
 },
 "nbformat": 4,
 "nbformat_minor": 2
}
