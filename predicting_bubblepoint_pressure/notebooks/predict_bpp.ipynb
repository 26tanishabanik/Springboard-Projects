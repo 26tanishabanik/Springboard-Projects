{
 "cells": [
  {
   "cell_type": "markdown",
   "metadata": {},
   "source": [
    "# Predicting Bubblepoint Pressure for Middle East Crude Oils using Random Forest Regression\n",
    "Connor McAnuff\n",
    "\n",
    "For this project, I've taken a quick look at predicting bubblepoint pressure of Middle East crude oils using Pressure-Volume-Temperature (PVT) properties known to be correllated with bubblepoint pressure.\n",
    "\n",
    "## Contents:\n",
    "1) Project Background\n",
    "\n",
    "2) Data Importing\n",
    "\n",
    "3) Data Cleaning\n",
    "\n",
    "4) Data Exploration\n",
    "\n",
    "5) Al-Marhoun Predictions\n",
    "\n",
    "6) Random Forest Regression\n",
    "\n",
    "\n",
    "## References:\n",
    "[1] https://pdfs.semanticscholar.org/5c8a/3bb589dac09a96c9cf623795a74713c68f6b.pdf\n",
    "\n",
    "[2] https://www.researchgate.net/publication/240779975_PVT_Correlations_for_Middle_East_Crude_Oils\n"
   ]
  },
  {
   "cell_type": "markdown",
   "metadata": {},
   "source": [
    "## 1) Project Background"
   ]
  },
  {
   "cell_type": "markdown",
   "metadata": {},
   "source": [
    "### Why predict bubblepoint pressure?\n",
    "\n",
    "Oil bubblepoint pressure is required for material balance calculations, analysis of well performance, reservoir simulation, and production engineering calculations. Furthermore, bubblepoint pressure is directly or indirectly involved in every oil property calculation. Thus, knowledge of bubblepoint pressure is crucial in the development of an oil field [1]. \n",
    "\n",
    "Estimating bubblepoint pressure has been the subject of many studies. The estimation methods generally make use of correlations between data typically available in the field (e.g. gas-oil ratio, gas specific gravity, oil gravity, and reservoir temperature) and bubblepoint pressure [1].\n",
    "\n",
    "There have been many studies in which machine learning has been used to estimate bubblepoint pressure:\n",
    "- [Artificial Intelligence Techniques for Predicting the Reservoir Fluid Properties of Crude Oil Systems](https://pdfs.semanticscholar.org/fa27/e9dcf8096164f529a5290df6cda8fa0b67c3.pdf)\n",
    "- [A comparative analysis of bubble point pressure prediction using advanced machine learning algorithms and classical correlations](https://www.researchgate.net/publication/336662731_A_comparative_analysis_of_bubble_point_pressure_prediction_using_advanced_machine_learning_algorithms_and_classical_correlations)\n",
    "- [Prediction of Bubble Point Pressure Using Artificial Intelligence AI Techniques](https://www.researchgate.net/publication/310622176_Prediction_of_Bubble_Point_Pressure_Using_Artificial_Intelligence_AI_Techniques)\n",
    "\n",
    "Let's give it a go ourselves!"
   ]
  },
  {
   "cell_type": "markdown",
   "metadata": {},
   "source": [
    "### Dataset"
   ]
  },
  {
   "cell_type": "markdown",
   "metadata": {},
   "source": [
    "The best available dataset I could find online for free was from a study by Muhammad All Al-Marhoun in May 1988 [2]. Certainly, there are more recent and comprehensive datasets existing, but for this project Al-Marhoun's dataset will serve our purposes fine.\n",
    "\n",
    "The dataset includes 160 observations of experimentally determined bubblepoint pressures of 69 different Middle East oil/gas mixtures. Given alongside bubblepoint pressure for each observation is Gas-Oil Ratio (GOR), Average Gas Relative Density (Yg), API Gravity at 60 deg. F (Yapi), and Temperature in Farenheit (Tf). "
   ]
  },
  {
   "cell_type": "markdown",
   "metadata": {},
   "source": [
    "## 1) Data Importing"
   ]
  },
  {
   "cell_type": "code",
   "execution_count": 1,
   "metadata": {},
   "outputs": [],
   "source": [
    "%load_ext watermark"
   ]
  },
  {
   "cell_type": "code",
   "execution_count": 2,
   "metadata": {},
   "outputs": [
    {
     "name": "stdout",
     "output_type": "stream",
     "text": [
      "Connor McAnuff 2019-11-06 19:11:43 \n",
      "\n",
      "CPython 3.7.3\n",
      "IPython 7.4.0\n",
      "\n",
      "numpy 1.16.4\n",
      "pandas 0.24.2\n"
     ]
    }
   ],
   "source": [
    "%watermark -a \"Connor McAnuff\" -d -t -v -p numpy,pandas"
   ]
  },
  {
   "cell_type": "code",
   "execution_count": 3,
   "metadata": {},
   "outputs": [],
   "source": [
    "import numpy as np \n",
    "import pandas as pd\n",
    "import os\n",
    "import gc\n",
    "import matplotlib.pyplot as plt\n",
    "import seaborn as sns\n",
    "%matplotlib inline\n",
    "\n",
    "pal = sns.color_palette()\n",
    "\n",
    "from tqdm import tqdm_notebook as tqdm\n",
    "\n",
    "PROJ_ROOT = os.path.join(os.pardir)"
   ]
  },
  {
   "cell_type": "code",
   "execution_count": 4,
   "metadata": {},
   "outputs": [],
   "source": [
    "# Set path to data\n",
    "data_path = str(os.path.join(PROJ_ROOT,\n",
    "                            'data',\n",
    "                            'raw',\n",
    "                             'bpp_data.csv'))"
   ]
  },
  {
   "cell_type": "code",
   "execution_count": 5,
   "metadata": {
    "scrolled": true
   },
   "outputs": [],
   "source": [
    "df = pd.read_csv(data_path, index_col='sample')"
   ]
  },
  {
   "cell_type": "code",
   "execution_count": 6,
   "metadata": {},
   "outputs": [
    {
     "data": {
      "text/html": [
       "<div>\n",
       "<style scoped>\n",
       "    .dataframe tbody tr th:only-of-type {\n",
       "        vertical-align: middle;\n",
       "    }\n",
       "\n",
       "    .dataframe tbody tr th {\n",
       "        vertical-align: top;\n",
       "    }\n",
       "\n",
       "    .dataframe thead th {\n",
       "        text-align: right;\n",
       "    }\n",
       "</style>\n",
       "<table border=\"1\" class=\"dataframe\">\n",
       "  <thead>\n",
       "    <tr style=\"text-align: right;\">\n",
       "      <th></th>\n",
       "      <th>bp_p</th>\n",
       "      <th>gor</th>\n",
       "      <th>yg</th>\n",
       "      <th>y_api</th>\n",
       "      <th>Tf</th>\n",
       "    </tr>\n",
       "    <tr>\n",
       "      <th>sample</th>\n",
       "      <th></th>\n",
       "      <th></th>\n",
       "      <th></th>\n",
       "      <th></th>\n",
       "      <th></th>\n",
       "    </tr>\n",
       "  </thead>\n",
       "  <tbody>\n",
       "    <tr>\n",
       "      <th>1</th>\n",
       "      <td>3,573</td>\n",
       "      <td>1,507</td>\n",
       "      <td>0.951.</td>\n",
       "      <td>39.3.</td>\n",
       "      <td>225</td>\n",
       "    </tr>\n",
       "    <tr>\n",
       "      <th>2</th>\n",
       "      <td>3,571</td>\n",
       "      <td>898</td>\n",
       "      <td>0.802.</td>\n",
       "      <td>32.7.</td>\n",
       "      <td>175</td>\n",
       "    </tr>\n",
       "    <tr>\n",
       "      <th>3</th>\n",
       "      <td>3,426</td>\n",
       "      <td>898</td>\n",
       "      <td>0.802.</td>\n",
       "      <td>32.7.</td>\n",
       "      <td>150</td>\n",
       "    </tr>\n",
       "    <tr>\n",
       "      <th>4</th>\n",
       "      <td>3,405</td>\n",
       "      <td>1,579</td>\n",
       "      <td>0.930.</td>\n",
       "      <td>42.8.</td>\n",
       "      <td>235</td>\n",
       "    </tr>\n",
       "    <tr>\n",
       "      <th>5</th>\n",
       "      <td>3,354</td>\n",
       "      <td>825</td>\n",
       "      <td>0.779.</td>\n",
       "      <td>34.2.</td>\n",
       "      <td>185</td>\n",
       "    </tr>\n",
       "  </tbody>\n",
       "</table>\n",
       "</div>"
      ],
      "text/plain": [
       "         bp_p    gor      yg  y_api   Tf\n",
       "sample                                  \n",
       "1       3,573  1,507  0.951.  39.3.  225\n",
       "2       3,571    898  0.802.  32.7.  175\n",
       "3       3,426    898  0.802.  32.7.  150\n",
       "4       3,405  1,579  0.930.  42.8.  235\n",
       "5       3,354    825  0.779.  34.2.  185"
      ]
     },
     "execution_count": 6,
     "metadata": {},
     "output_type": "execute_result"
    }
   ],
   "source": [
    "df.head()"
   ]
  },
  {
   "cell_type": "markdown",
   "metadata": {},
   "source": [
    "- bp_p: bubblepoint pressure (psia)\n",
    "- gor: gas-oil ratio (scf/STB)\n",
    "- yg: Average gas relative density (air = 1)\n",
    "- y_api: API gravity at 60 deg. F (deg. API)\n",
    "- Tf: Temperature (deg. F)"
   ]
  },
  {
   "cell_type": "markdown",
   "metadata": {},
   "source": [
    "## 2) Data Cleaning"
   ]
  },
  {
   "cell_type": "code",
   "execution_count": 7,
   "metadata": {},
   "outputs": [],
   "source": [
    "# Remove commas from bp_p and gor and convert to integers\n",
    "df['bp_p'] = df['bp_p'].str.replace(',', '').astype(int)\n",
    "df['gor'] = df['gor'].str.replace(',', '').astype(int)"
   ]
  },
  {
   "cell_type": "code",
   "execution_count": 8,
   "metadata": {},
   "outputs": [],
   "source": [
    "# Check to make sure every observation in yg ends in a decimal and remove, then convert to float\n",
    "for i, row in enumerate(df['yg']):\n",
    "    if df['yg'].iloc[i][-1] != '.':\n",
    "        print(df['yg'].iloc[i][-1])\n",
    "        \n",
    "df['yg'] = df['yg'].str.rstrip('.').astype('float')"
   ]
  },
  {
   "cell_type": "code",
   "execution_count": 9,
   "metadata": {},
   "outputs": [],
   "source": [
    "# Check to make sure every observation in y_api ends in a decimal and remove, then convert to float\n",
    "for i, row in enumerate(df['y_api']):\n",
    "    if df['y_api'].iloc[i][-1] != '.':\n",
    "        print(df['y_api'].iloc[i][-1])\n",
    "        \n",
    "df['y_api'] = df['y_api'].str.rstrip('.').astype('float')"
   ]
  },
  {
   "cell_type": "code",
   "execution_count": 10,
   "metadata": {},
   "outputs": [],
   "source": [
    "# Convert y_api to y_0 (oil relative density (water = 1)) - to be used in Al-Marhoun's equation\n",
    "df['y_api'] = 141.5 / (df['y_api'] + 131.5)\n",
    "\n",
    "# Convert Tf to T (Rankin scale) - to be used in Al-Marhoun's equation\n",
    "df['Tf'] = df['Tf'] + 459.67\n",
    "\n",
    "# Rename columns\n",
    "df.columns = ['bp_p', 'gor', 'yg', 'y_0', 'T']"
   ]
  },
  {
   "cell_type": "code",
   "execution_count": 11,
   "metadata": {
    "scrolled": true
   },
   "outputs": [
    {
     "data": {
      "text/html": [
       "<div>\n",
       "<style scoped>\n",
       "    .dataframe tbody tr th:only-of-type {\n",
       "        vertical-align: middle;\n",
       "    }\n",
       "\n",
       "    .dataframe tbody tr th {\n",
       "        vertical-align: top;\n",
       "    }\n",
       "\n",
       "    .dataframe thead th {\n",
       "        text-align: right;\n",
       "    }\n",
       "</style>\n",
       "<table border=\"1\" class=\"dataframe\">\n",
       "  <thead>\n",
       "    <tr style=\"text-align: right;\">\n",
       "      <th></th>\n",
       "      <th>bp_p</th>\n",
       "      <th>gor</th>\n",
       "      <th>yg</th>\n",
       "      <th>y_0</th>\n",
       "      <th>T</th>\n",
       "    </tr>\n",
       "    <tr>\n",
       "      <th>sample</th>\n",
       "      <th></th>\n",
       "      <th></th>\n",
       "      <th></th>\n",
       "      <th></th>\n",
       "      <th></th>\n",
       "    </tr>\n",
       "  </thead>\n",
       "  <tbody>\n",
       "    <tr>\n",
       "      <th>1</th>\n",
       "      <td>3573</td>\n",
       "      <td>1507</td>\n",
       "      <td>0.951</td>\n",
       "      <td>0.828454</td>\n",
       "      <td>684.67</td>\n",
       "    </tr>\n",
       "    <tr>\n",
       "      <th>2</th>\n",
       "      <td>3571</td>\n",
       "      <td>898</td>\n",
       "      <td>0.802</td>\n",
       "      <td>0.861754</td>\n",
       "      <td>634.67</td>\n",
       "    </tr>\n",
       "    <tr>\n",
       "      <th>3</th>\n",
       "      <td>3426</td>\n",
       "      <td>898</td>\n",
       "      <td>0.802</td>\n",
       "      <td>0.861754</td>\n",
       "      <td>609.67</td>\n",
       "    </tr>\n",
       "    <tr>\n",
       "      <th>4</th>\n",
       "      <td>3405</td>\n",
       "      <td>1579</td>\n",
       "      <td>0.930</td>\n",
       "      <td>0.811819</td>\n",
       "      <td>694.67</td>\n",
       "    </tr>\n",
       "    <tr>\n",
       "      <th>5</th>\n",
       "      <td>3354</td>\n",
       "      <td>825</td>\n",
       "      <td>0.779</td>\n",
       "      <td>0.853953</td>\n",
       "      <td>644.67</td>\n",
       "    </tr>\n",
       "  </tbody>\n",
       "</table>\n",
       "</div>"
      ],
      "text/plain": [
       "        bp_p   gor     yg       y_0       T\n",
       "sample                                     \n",
       "1       3573  1507  0.951  0.828454  684.67\n",
       "2       3571   898  0.802  0.861754  634.67\n",
       "3       3426   898  0.802  0.861754  609.67\n",
       "4       3405  1579  0.930  0.811819  694.67\n",
       "5       3354   825  0.779  0.853953  644.67"
      ]
     },
     "execution_count": 11,
     "metadata": {},
     "output_type": "execute_result"
    }
   ],
   "source": [
    "df.head()"
   ]
  },
  {
   "cell_type": "markdown",
   "metadata": {},
   "source": [
    "- bp_p: bubblepoint pressure (psia)\n",
    "- gor: gas-oil ratio (scf/STB)\n",
    "- yg: Average gas relative density (air = 1)\n",
    "- y_0: oil relative density (water = 1)\n",
    "- T: Temperature (deg. Rankine)"
   ]
  },
  {
   "cell_type": "code",
   "execution_count": 12,
   "metadata": {},
   "outputs": [
    {
     "data": {
      "text/html": [
       "<div>\n",
       "<style scoped>\n",
       "    .dataframe tbody tr th:only-of-type {\n",
       "        vertical-align: middle;\n",
       "    }\n",
       "\n",
       "    .dataframe tbody tr th {\n",
       "        vertical-align: top;\n",
       "    }\n",
       "\n",
       "    .dataframe thead th {\n",
       "        text-align: right;\n",
       "    }\n",
       "</style>\n",
       "<table border=\"1\" class=\"dataframe\">\n",
       "  <thead>\n",
       "    <tr style=\"text-align: right;\">\n",
       "      <th></th>\n",
       "      <th>bp_p</th>\n",
       "      <th>gor</th>\n",
       "      <th>yg</th>\n",
       "      <th>y_0</th>\n",
       "      <th>T</th>\n",
       "    </tr>\n",
       "  </thead>\n",
       "  <tbody>\n",
       "    <tr>\n",
       "      <th>count</th>\n",
       "      <td>160.00</td>\n",
       "      <td>160.00</td>\n",
       "      <td>160.00</td>\n",
       "      <td>160.00</td>\n",
       "      <td>160.00</td>\n",
       "    </tr>\n",
       "    <tr>\n",
       "      <th>mean</th>\n",
       "      <td>1731.12</td>\n",
       "      <td>557.54</td>\n",
       "      <td>0.97</td>\n",
       "      <td>0.86</td>\n",
       "      <td>604.41</td>\n",
       "    </tr>\n",
       "    <tr>\n",
       "      <th>std</th>\n",
       "      <td>1084.23</td>\n",
       "      <td>403.15</td>\n",
       "      <td>0.17</td>\n",
       "      <td>0.03</td>\n",
       "      <td>39.26</td>\n",
       "    </tr>\n",
       "    <tr>\n",
       "      <th>min</th>\n",
       "      <td>130.00</td>\n",
       "      <td>26.00</td>\n",
       "      <td>0.75</td>\n",
       "      <td>0.80</td>\n",
       "      <td>533.67</td>\n",
       "    </tr>\n",
       "    <tr>\n",
       "      <th>25%</th>\n",
       "      <td>596.75</td>\n",
       "      <td>194.25</td>\n",
       "      <td>0.80</td>\n",
       "      <td>0.84</td>\n",
       "      <td>559.67</td>\n",
       "    </tr>\n",
       "    <tr>\n",
       "      <th>50%</th>\n",
       "      <td>1868.50</td>\n",
       "      <td>560.00</td>\n",
       "      <td>0.93</td>\n",
       "      <td>0.86</td>\n",
       "      <td>609.67</td>\n",
       "    </tr>\n",
       "    <tr>\n",
       "      <th>75%</th>\n",
       "      <td>2660.75</td>\n",
       "      <td>782.00</td>\n",
       "      <td>1.06</td>\n",
       "      <td>0.88</td>\n",
       "      <td>634.67</td>\n",
       "    </tr>\n",
       "    <tr>\n",
       "      <th>max</th>\n",
       "      <td>3573.00</td>\n",
       "      <td>1602.00</td>\n",
       "      <td>1.37</td>\n",
       "      <td>0.94</td>\n",
       "      <td>699.67</td>\n",
       "    </tr>\n",
       "  </tbody>\n",
       "</table>\n",
       "</div>"
      ],
      "text/plain": [
       "         bp_p     gor     yg    y_0      T\n",
       "count  160.00  160.00 160.00 160.00 160.00\n",
       "mean  1731.12  557.54   0.97   0.86 604.41\n",
       "std   1084.23  403.15   0.17   0.03  39.26\n",
       "min    130.00   26.00   0.75   0.80 533.67\n",
       "25%    596.75  194.25   0.80   0.84 559.67\n",
       "50%   1868.50  560.00   0.93   0.86 609.67\n",
       "75%   2660.75  782.00   1.06   0.88 634.67\n",
       "max   3573.00 1602.00   1.37   0.94 699.67"
      ]
     },
     "execution_count": 12,
     "metadata": {},
     "output_type": "execute_result"
    }
   ],
   "source": [
    "pd.options.display.float_format = \"{:.2f}\".format\n",
    "df.describe()"
   ]
  },
  {
   "cell_type": "markdown",
   "metadata": {},
   "source": [
    "## 3) Data Exploration "
   ]
  },
  {
   "cell_type": "code",
   "execution_count": 13,
   "metadata": {},
   "outputs": [],
   "source": [
    "# Function for plotting a histogram given a pandas series\n",
    "def plot_hist(series, bins):\n",
    "    fig, ax = plt.subplots(figsize=(6,6))\n",
    "    plt.hist(series, bins=bins)\n",
    "    plt.xlabel(series.name)\n",
    "    plt.ylabel('Frequency')\n",
    "    plt.show()"
   ]
  },
  {
   "cell_type": "code",
   "execution_count": 14,
   "metadata": {
    "scrolled": false
   },
   "outputs": [
    {
     "data": {
      "image/png": "[encoded data removed]",
      "text/plain": [
       "<Figure size 432x432 with 1 Axes>"
      ]
     },
     "metadata": {
      "needs_background": "light"
     },
     "output_type": "display_data"
    },
    {
     "data": {
      "image/png": "[encoded data removed]",
      "text/plain": [
       "<Figure size 432x432 with 1 Axes>"
      ]
     },
     "metadata": {
      "needs_background": "light"
     },
     "output_type": "display_data"
    },
    {
     "data": {
      "image/png": "[encoded data removed]",
      "text/plain": [
       "<Figure size 432x432 with 1 Axes>"
      ]
     },
     "metadata": {
      "needs_background": "light"
     },
     "output_type": "display_data"
    },
    {
     "data": {
      "image/png": "[encoded data removed]",
      "text/plain": [
       "<Figure size 432x432 with 1 Axes>"
      ]
     },
     "metadata": {
      "needs_background": "light"
     },
     "output_type": "display_data"
    },
    {
     "data": {
      "image/png": "[encoded data removed]",
      "text/plain": [
       "<Figure size 432x432 with 1 Axes>"
      ]
     },
     "metadata": {
      "needs_background": "light"
     },
     "output_type": "display_data"
    }
   ],
   "source": [
    "# Plot the distributions of each df column\n",
    "for series in list(df):\n",
    "    plot_hist(series=df[series], bins=20)"
   ]
  },
  {
   "cell_type": "code",
   "execution_count": 15,
   "metadata": {},
   "outputs": [
    {
     "data": {
      "image/png": "[encoded data removed]",
      "text/plain": [
       "<Figure size 792x648 with 2 Axes>"
      ]
     },
     "metadata": {
      "needs_background": "light"
     },
     "output_type": "display_data"
    }
   ],
   "source": [
    "# Compute correlation matrix\n",
    "corr = df.corr()\n",
    "\n",
    "# Generate a mask for the upper triangle\n",
    "mask = np.zeros_like(corr, dtype=np.bool)\n",
    "mask[np.triu_indices_from(mask)] = True\n",
    "np.fill_diagonal(mask, False)\n",
    "\n",
    "# Set column labels\n",
    "column_labels = list(df)\n",
    "\n",
    "# Set up the matplotlib figure\n",
    "f, ax = plt.subplots(figsize=(11, 9))\n",
    "\n",
    "# Draw the heatmap with the mask\n",
    "sns.heatmap(corr, mask=mask, cmap='coolwarm', vmin=-1, vmax=1, center=0,\n",
    "            square=True, linewidths=.5, xticklabels=column_labels, yticklabels=column_labels)\n",
    "\n",
    "plt.show()"
   ]
  },
  {
   "cell_type": "markdown",
   "metadata": {},
   "source": [
    "## 4) Al-Marhoun Predictions"
   ]
  },
  {
   "cell_type": "markdown",
   "metadata": {},
   "source": [
    "Al-Marhoun produced the following relationship using nonlinear multiple regression analysis:"
   ]
  },
  {
   "attachments": {
    "image.png": {
     "image/png": "[encoded data removed]"
    }
   },
   "cell_type": "markdown",
   "metadata": {},
   "source": [
    "![image.png](attachment:image.png)"
   ]
  },
  {
   "cell_type": "code",
   "execution_count": 16,
   "metadata": {},
   "outputs": [],
   "source": [
    "# Calculate Al-Mahroun predictions (also given in his paper) using the above equation\n",
    "AM_pred = 5.38088 / 1000 *(df['gor'] ** 0.715082) * (df['yg'] ** -1.877840) * (df['y_0'] ** 3.143700) * ((df['T']) ** 1.326570)"
   ]
  },
  {
   "cell_type": "markdown",
   "metadata": {},
   "source": [
    "### Model Evaluation\n",
    "Al-Mahroun evaulated his model using the following metrics:\n",
    "- Average relative error (%)\n",
    "- Average absolute relative error (%)\n",
    "- Minimum absolute relative error (%)\n",
    "- Maximum absolute relative error (%)\n",
    "- Correlation Coefficient\n",
    "\n",
    "An important caveat, is that these metrics were not calculated on out-of-sample data. Thus, the formula is very likely overfit to the specific dataset used. For evaluating our random forest model, the metrics will be calculated using a test set, previously unseen by the model, for a more accurate representation of how the model will perform when presented with new data."
   ]
  },
  {
   "cell_type": "code",
   "execution_count": 17,
   "metadata": {},
   "outputs": [],
   "source": [
    "from scipy.stats import pearsonr"
   ]
  },
  {
   "cell_type": "code",
   "execution_count": 18,
   "metadata": {},
   "outputs": [],
   "source": [
    "# Functions to calculate model evaluation metrics\n",
    "\n",
    "def mean_percentage_error(y_true, y_pred):\n",
    "    return np.mean((y_true - y_pred) / y_true) * 100\n",
    "\n",
    "def mean_absolute_percentage_error(y_true, y_pred): \n",
    "    return np.mean(np.abs((y_true - y_pred) / y_true)) * 100\n",
    "\n",
    "def min_absolute_percentage_error(y_true, y_pred):\n",
    "    return np.min(np.abs((y_true - y_pred) / y_true)) * 100\n",
    "\n",
    "def max_absolute_percentage_error(y_true, y_pred):\n",
    "    return np.max(np.abs((y_true - y_pred) / y_true)) * 100"
   ]
  },
  {
   "cell_type": "code",
   "execution_count": 19,
   "metadata": {
    "scrolled": true
   },
   "outputs": [
    {
     "name": "stdout",
     "output_type": "stream",
     "text": [
      "Al-Mahroun Model Evaluation Statistics:\n",
      "Mean percentage error: -0.19\n",
      "Mean absolute percentage error: 3.67\n",
      "Min absolute percentage error: 0.01\n",
      "Max absolute percentage error: 13.0\n",
      "Correlation coefficient: 0.997\n"
     ]
    }
   ],
   "source": [
    "print('Al-Mahroun Model Evaluation Statistics:')\n",
    "print('Mean percentage error: {}'.format(round(mean_percentage_error(df['bp_p'],AM_pred), 2)))\n",
    "print('Mean absolute percentage error: {}'.format(round(mean_absolute_percentage_error(df['bp_p'],AM_pred), 2)))\n",
    "print('Min absolute percentage error: {}'.format(round(min_absolute_percentage_error(df['bp_p'],AM_pred), 2)))\n",
    "print('Max absolute percentage error: {}'.format(round(max_absolute_percentage_error(df['bp_p'],AM_pred), 2)))\n",
    "print('Correlation coefficient: {}'.format(round(pearsonr(df['bp_p'],AM_pred)[0], 3)))"
   ]
  },
  {
   "cell_type": "markdown",
   "metadata": {},
   "source": [
    "The mean percentage error and max absolute percentage error calculated here differ slightly from those published by Al-Mahroun. The cause is likely due to how the data was obtained for this project - a scanned pdf table was automatically converted to text and it's therefore possible that there are a few incorrect values in the digitized dataset. However, most values are correct and we can continue on. "
   ]
  },
  {
   "cell_type": "markdown",
   "metadata": {},
   "source": [
    "## 5) Random Forest Regression"
   ]
  },
  {
   "cell_type": "markdown",
   "metadata": {},
   "source": [
    "### Why random forest regression?"
   ]
  },
  {
   "cell_type": "markdown",
   "metadata": {},
   "source": [
    "- Can be used with few observations to obtain predictive performance competing with best algorithms.\n",
    "- Simple implementation."
   ]
  },
  {
   "cell_type": "markdown",
   "metadata": {},
   "source": [
    "### Why NOT random forest regression?"
   ]
  },
  {
   "cell_type": "markdown",
   "metadata": {},
   "source": [
    "- Can be susceptible to overfitting \n",
    "- Ensemble models inherently less interpretable than single decision tree."
   ]
  },
  {
   "cell_type": "markdown",
   "metadata": {},
   "source": [
    "### Train-Test Split"
   ]
  },
  {
   "cell_type": "markdown",
   "metadata": {},
   "source": [
    "The dataset is small, but it must still be split into a train and test set to ensure our eventual model is able to generalize."
   ]
  },
  {
   "cell_type": "code",
   "execution_count": 20,
   "metadata": {},
   "outputs": [],
   "source": [
    "from sklearn.model_selection import train_test_split\n",
    "from sklearn.model_selection import RandomizedSearchCV\n",
    "from sklearn.model_selection import GridSearchCV\n",
    "from sklearn.ensemble import RandomForestRegressor"
   ]
  },
  {
   "cell_type": "code",
   "execution_count": 21,
   "metadata": {},
   "outputs": [],
   "source": [
    "# Set features\n",
    "X = df.drop(['bp_p'], axis=1)\n",
    "\n",
    "# Set target variable\n",
    "y = df['bp_p']"
   ]
  },
  {
   "cell_type": "code",
   "execution_count": 22,
   "metadata": {},
   "outputs": [],
   "source": [
    "# Split data into train and test sets - keep 20% for testing\n",
    "X_train, X_test, y_train, y_test = train_test_split(X, y, test_size=0.2, random_state=42)"
   ]
  },
  {
   "cell_type": "markdown",
   "metadata": {},
   "source": [
    "### RandomizedSearchCV - Hyperparameter tuning"
   ]
  },
  {
   "cell_type": "code",
   "execution_count": 23,
   "metadata": {},
   "outputs": [],
   "source": [
    "# Initialize random forest regressor\n",
    "rf_reg = RandomForestRegressor()"
   ]
  },
  {
   "cell_type": "code",
   "execution_count": 24,
   "metadata": {},
   "outputs": [],
   "source": [
    "# Setting hyperparameter search space for RandomizedSearchCV\n",
    "\n",
    "# Number of trees in random forest\n",
    "n_estimators = [int(x) for x in np.linspace(start = 100, stop = 2000, num = 10)]\n",
    "# Number of features to consider at every split\n",
    "max_features = ['auto', 'log2', None]\n",
    "# Maximum number of levels in tree\n",
    "max_depth = [int(x) for x in np.linspace(2, 112, num = 10)]\n",
    "max_depth.append(None)\n",
    "# Minimum number of samples required to split a node\n",
    "min_samples_split = [2, 3, 4, 5, 10, 15, 20]\n",
    "# Minimum number of samples required at each leaf node\n",
    "min_samples_leaf = [1, 2, 3, 4, 5, 6, 7, 8, 9, 10]\n",
    "# Method of selecting samples for training each tree\n",
    "bootstrap = [True, False]"
   ]
  },
  {
   "cell_type": "code",
   "execution_count": 25,
   "metadata": {},
   "outputs": [],
   "source": [
    "# Create randomized search grid dictionary\n",
    "random_grid = {'n_estimators': n_estimators,\n",
    "               'max_features': max_features,\n",
    "               'max_depth': max_depth,\n",
    "               'min_samples_split': min_samples_split,\n",
    "               'min_samples_leaf': min_samples_leaf,\n",
    "               'bootstrap': bootstrap}"
   ]
  },
  {
   "cell_type": "code",
   "execution_count": 26,
   "metadata": {},
   "outputs": [],
   "source": [
    "# Create randomizedsearchCV object - 3 fold cross validation, 1000 iterations\n",
    "rf_random = RandomizedSearchCV(estimator = rf_reg, param_distributions = random_grid, n_iter = 1000, cv = 3, verbose=2, random_state=42, n_jobs = -1)"
   ]
  },
  {
   "cell_type": "code",
   "execution_count": 27,
   "metadata": {},
   "outputs": [
    {
     "name": "stdout",
     "output_type": "stream",
     "text": [
      "Fitting 3 folds for each of 1000 candidates, totalling 3000 fits\n"
     ]
    },
    {
     "name": "stderr",
     "output_type": "stream",
     "text": [
      "[Parallel(n_jobs=-1)]: Using backend LokyBackend with 8 concurrent workers.\n",
      "[Parallel(n_jobs=-1)]: Done  25 tasks      | elapsed:    7.3s\n",
      "[Parallel(n_jobs=-1)]: Done 146 tasks      | elapsed:   31.9s\n",
      "[Parallel(n_jobs=-1)]: Done 349 tasks      | elapsed:  1.1min\n",
      "[Parallel(n_jobs=-1)]: Done 632 tasks      | elapsed:  1.9min\n",
      "[Parallel(n_jobs=-1)]: Done 997 tasks      | elapsed:  2.8min\n",
      "[Parallel(n_jobs=-1)]: Done 1442 tasks      | elapsed:  4.2min\n",
      "[Parallel(n_jobs=-1)]: Done 1969 tasks      | elapsed:  5.7min\n",
      "[Parallel(n_jobs=-1)]: Done 2576 tasks      | elapsed:  7.7min\n",
      "[Parallel(n_jobs=-1)]: Done 3000 out of 3000 | elapsed:  9.0min finished\n",
      "C:\\Users\\conno\\Anaconda3\\envs\\Springboard\\lib\\site-packages\\sklearn\\model_selection\\_search.py:813: DeprecationWarning: The default of the `iid` parameter will change from True to False in version 0.22 and will be removed in 0.24. This will change numeric results when test-set sizes are unequal.\n",
      "  DeprecationWarning)\n"
     ]
    },
    {
     "data": {
      "text/plain": [
       "RandomizedSearchCV(cv=3, error_score='raise-deprecating',\n",
       "                   estimator=RandomForestRegressor(bootstrap=True,\n",
       "                                                   criterion='mse',\n",
       "                                                   max_depth=None,\n",
       "                                                   max_features='auto',\n",
       "                                                   max_leaf_nodes=None,\n",
       "                                                   min_impurity_decrease=0.0,\n",
       "                                                   min_impurity_split=None,\n",
       "                                                   min_samples_leaf=1,\n",
       "                                                   min_samples_split=2,\n",
       "                                                   min_weight_fraction_leaf=0.0,\n",
       "                                                   n_estimators='warn',\n",
       "                                                   n_jobs=None, oob_score=False,\n",
       "                                                   random_sta...\n",
       "                   param_distributions={'bootstrap': [True, False],\n",
       "                                        'max_depth': [2, 14, 26, 38, 50, 63, 75,\n",
       "                                                      87, 99, 112, None],\n",
       "                                        'max_features': ['auto', 'log2', None],\n",
       "                                        'min_samples_leaf': [1, 2, 3, 4, 5, 6,\n",
       "                                                             7, 8, 9, 10],\n",
       "                                        'min_samples_split': [2, 3, 4, 5, 10,\n",
       "                                                              15, 20],\n",
       "                                        'n_estimators': [100, 311, 522, 733,\n",
       "                                                         944, 1155, 1366, 1577,\n",
       "                                                         1788, 2000]},\n",
       "                   pre_dispatch='2*n_jobs', random_state=42, refit=True,\n",
       "                   return_train_score=False, scoring=None, verbose=2)"
      ]
     },
     "execution_count": 27,
     "metadata": {},
     "output_type": "execute_result"
    }
   ],
   "source": [
    "# Perform randomized search\n",
    "rf_random.fit(X_train, y_train)"
   ]
  },
  {
   "cell_type": "code",
   "execution_count": 28,
   "metadata": {},
   "outputs": [
    {
     "data": {
      "text/plain": [
       "{'n_estimators': 944,\n",
       " 'min_samples_split': 2,\n",
       " 'min_samples_leaf': 1,\n",
       " 'max_features': None,\n",
       " 'max_depth': 63,\n",
       " 'bootstrap': True}"
      ]
     },
     "execution_count": 28,
     "metadata": {},
     "output_type": "execute_result"
    }
   ],
   "source": [
    "# List the best parameters\n",
    "rf_random.best_params_"
   ]
  },
  {
   "cell_type": "code",
   "execution_count": 29,
   "metadata": {},
   "outputs": [
    {
     "data": {
      "text/plain": [
       "7.5600502729761345"
      ]
     },
     "execution_count": 29,
     "metadata": {},
     "output_type": "execute_result"
    }
   ],
   "source": [
    "# Create a new model based on the best parameters found using randomizedsearchCV\n",
    "rf_reg_opt = rf_random.best_estimator_\n",
    "rf_reg_opt.fit(X_train, y_train)\n",
    "mean_absolute_percentage_error(y_test, rf_reg_opt.predict(X_test))"
   ]
  },
  {
   "cell_type": "markdown",
   "metadata": {},
   "source": [
    "### GridSearchCV - Hyperparameter tuning"
   ]
  },
  {
   "cell_type": "markdown",
   "metadata": {},
   "source": [
    "After using randomized search, it's worth trying to improve the hyperparameter selection further by using gridsearchCV in the areas of the previously found best parameters."
   ]
  },
  {
   "cell_type": "code",
   "execution_count": 30,
   "metadata": {},
   "outputs": [],
   "source": [
    "# Number of trees in random forest\n",
    "gs_n_estimators = [int(x) for x in np.linspace(start = 1800, stop = 2500, num = 100)]\n",
    "# Number of features to consider at every split\n",
    "gs_max_features = [None]\n",
    "# Maximum number of levels in tree\n",
    "gs_max_depth = [int(x) for x in np.linspace(75, 100, num = 5)]\n",
    "gs_max_depth.append(None)\n",
    "# Minimum number of samples required to split a node\n",
    "gs_min_samples_split = [2, 3, 4]\n",
    "# Minimum number of samples required at each leaf node\n",
    "gs_min_samples_leaf = [1, 2, 3]\n",
    "# Method of selecting samples for training each tree\n",
    "gs_bootstrap = [True]"
   ]
  },
  {
   "cell_type": "code",
   "execution_count": 31,
   "metadata": {},
   "outputs": [],
   "source": [
    "# Create grid search dictionary\n",
    "gs_grid = {'n_estimators': gs_n_estimators,\n",
    "               'max_features': gs_max_features,\n",
    "               'max_depth': gs_max_depth,\n",
    "               'min_samples_split': gs_min_samples_split,\n",
    "               'min_samples_leaf': gs_min_samples_leaf,\n",
    "               'bootstrap': gs_bootstrap}"
   ]
  },
  {
   "cell_type": "code",
   "execution_count": 32,
   "metadata": {},
   "outputs": [],
   "source": [
    "# Create gridsearchCV object - 3 fold cross validation\n",
    "rf_grid = RandomizedSearchCV(estimator = rf_reg, param_distributions = gs_grid, cv = 3, verbose=2, random_state=42, n_jobs = -1)"
   ]
  },
  {
   "cell_type": "code",
   "execution_count": 33,
   "metadata": {},
   "outputs": [
    {
     "name": "stdout",
     "output_type": "stream",
     "text": [
      "Fitting 3 folds for each of 10 candidates, totalling 30 fits\n"
     ]
    },
    {
     "name": "stderr",
     "output_type": "stream",
     "text": [
      "[Parallel(n_jobs=-1)]: Using backend LokyBackend with 8 concurrent workers.\n",
      "[Parallel(n_jobs=-1)]: Done  30 out of  30 | elapsed:   11.8s finished\n"
     ]
    },
    {
     "data": {
      "text/plain": [
       "RandomizedSearchCV(cv=3, error_score='raise-deprecating',\n",
       "                   estimator=RandomForestRegressor(bootstrap=True,\n",
       "                                                   criterion='mse',\n",
       "                                                   max_depth=None,\n",
       "                                                   max_features='auto',\n",
       "                                                   max_leaf_nodes=None,\n",
       "                                                   min_impurity_decrease=0.0,\n",
       "                                                   min_impurity_split=None,\n",
       "                                                   min_samples_leaf=1,\n",
       "                                                   min_samples_split=2,\n",
       "                                                   min_weight_fraction_leaf=0.0,\n",
       "                                                   n_estimators='warn',\n",
       "                                                   n_jobs=None, oob_score=False,\n",
       "                                                   random_sta...\n",
       "                                                      None],\n",
       "                                        'max_features': [None],\n",
       "                                        'min_samples_leaf': [1, 2, 3],\n",
       "                                        'min_samples_split': [2, 3, 4],\n",
       "                                        'n_estimators': [1800, 1807, 1814, 1821,\n",
       "                                                         1828, 1835, 1842, 1849,\n",
       "                                                         1856, 1863, 1870, 1877,\n",
       "                                                         1884, 1891, 1898, 1906,\n",
       "                                                         1913, 1920, 1927, 1934,\n",
       "                                                         1941, 1948, 1955, 1962,\n",
       "                                                         1969, 1976, 1983, 1990,\n",
       "                                                         1997, 2005, ...]},\n",
       "                   pre_dispatch='2*n_jobs', random_state=42, refit=True,\n",
       "                   return_train_score=False, scoring=None, verbose=2)"
      ]
     },
     "execution_count": 33,
     "metadata": {},
     "output_type": "execute_result"
    }
   ],
   "source": [
    "# Perform grid search\n",
    "rf_grid.fit(X_train, y_train)"
   ]
  },
  {
   "cell_type": "code",
   "execution_count": 34,
   "metadata": {},
   "outputs": [
    {
     "data": {
      "text/plain": [
       "{'n_estimators': 2309,\n",
       " 'min_samples_split': 3,\n",
       " 'min_samples_leaf': 1,\n",
       " 'max_features': None,\n",
       " 'max_depth': 100,\n",
       " 'bootstrap': True}"
      ]
     },
     "execution_count": 34,
     "metadata": {},
     "output_type": "execute_result"
    }
   ],
   "source": [
    "# List best parameters from grid search\n",
    "rf_grid.best_params_"
   ]
  },
  {
   "cell_type": "code",
   "execution_count": 35,
   "metadata": {},
   "outputs": [
    {
     "data": {
      "text/plain": [
       "7.606667773025923"
      ]
     },
     "execution_count": 35,
     "metadata": {},
     "output_type": "execute_result"
    }
   ],
   "source": [
    "# Create a new model based on the best parameters found using gridsearchCV\n",
    "rf_reg_opt_grid = rf_grid.best_estimator_\n",
    "rf_reg_opt_grid.fit(X_train, y_train)\n",
    "mean_absolute_percentage_error(y_test, rf_reg_opt_grid.predict(X_test))"
   ]
  },
  {
   "cell_type": "markdown",
   "metadata": {},
   "source": [
    "Mean absolute percentage error has decreased slightly! "
   ]
  },
  {
   "cell_type": "code",
   "execution_count": 36,
   "metadata": {},
   "outputs": [
    {
     "name": "stdout",
     "output_type": "stream",
     "text": [
      "Random Forest Regression Model Evaluation Statistics:\n",
      "Mean percentage error: -1.7\n",
      "Mean absolute percentage error: 7.61\n",
      "Min absolute percentage error: 0.43\n",
      "Max absolute percentage error: 23.76\n",
      "Correlation coefficient: 0.992\n"
     ]
    }
   ],
   "source": [
    "print('Random Forest Regression Model Evaluation Statistics:')\n",
    "print('Mean percentage error: {}'.format(round(mean_percentage_error(y_test,rf_reg_opt_grid.predict(X_test)), 2)))\n",
    "print('Mean absolute percentage error: {}'.format(round(mean_absolute_percentage_error(y_test,rf_reg_opt_grid.predict(X_test)), 2)))\n",
    "print('Min absolute percentage error: {}'.format(round(min_absolute_percentage_error(y_test,rf_reg_opt_grid.predict(X_test)), 2)))\n",
    "print('Max absolute percentage error: {}'.format(round(max_absolute_percentage_error(y_test,rf_reg_opt_grid.predict(X_test)), 2)))\n",
    "print('Correlation coefficient: {}'.format(round(pearsonr(y_test,rf_reg_opt_grid.predict(X_test))[0], 3)))"
   ]
  },
  {
   "cell_type": "code",
   "execution_count": 37,
   "metadata": {
    "scrolled": false
   },
   "outputs": [
    {
     "data": {
      "image/png": "[encoded data removed]",
      "text/plain": [
       "<Figure size 864x864 with 1 Axes>"
      ]
     },
     "metadata": {
      "needs_background": "light"
     },
     "output_type": "display_data"
    }
   ],
   "source": [
    "# Plot the predicted values vs the actual values of bubblepoint pressure\n",
    "\n",
    "fig, ax = plt.subplots(figsize=(12, 12))\n",
    "plt.scatter(rf_reg_opt_grid.predict(X_test), y_test, s=15, alpha=1)\n",
    "plt.plot([0,3500], [0,3500], '-', c='red')\n",
    "plt.xlabel(\"Test Data Fitted Value\", fontsize=15)\n",
    "plt.ylabel(\"Test Data Actual Value\", fontsize=15)\n",
    "\n",
    "ax.spines['top'].set_color('none')\n",
    "ax.spines['right'].set_color('none')\n",
    "\n",
    "plt.savefig('1a_fitted_vs_actual', bbox_inches='tight')\n",
    "\n",
    "plt.show()"
   ]
  },
  {
   "cell_type": "markdown",
   "metadata": {},
   "source": [
    "## Conclusions:"
   ]
  },
  {
   "cell_type": "markdown",
   "metadata": {},
   "source": [
    "- Random Forest Regression allows for prediction of bubblepoint pressure using 3 commonly available field data attributes with a mean absolute percentage error of 7.5%. This error is ~2x the mean absolute percentage error achieved by Al-Mahroun, however it is calculated out-of-sample, showing that the model has the ability to generalize. "
   ]
  }
 ],
 "metadata": {
  "kernelspec": {
   "display_name": "Python 3",
   "language": "python",
   "name": "python3"
  },
  "language_info": {
   "codemirror_mode": {
    "name": "ipython",
    "version": 3
   },
   "file_extension": ".py",
   "mimetype": "text/x-python",
   "name": "python",
   "nbconvert_exporter": "python",
   "pygments_lexer": "ipython3",
   "version": "3.7.3"
  }
 },
 "nbformat": 4,
 "nbformat_minor": 2
}
