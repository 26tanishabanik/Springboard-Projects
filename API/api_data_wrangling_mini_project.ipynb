{
 "cells": [
  {
   "cell_type": "markdown",
   "metadata": {},
   "source": [
    "This exercise will require you to pull some data from the Qunadl API. Qaundl is currently the most widely used aggregator of financial market data."
   ]
  },
  {
   "cell_type": "markdown",
   "metadata": {},
   "source": [
    "As a first step, you will need to register a free account on the http://www.quandl.com website."
   ]
  },
  {
   "cell_type": "markdown",
   "metadata": {},
   "source": [
    "After you register, you will be provided with a unique API key, that you should store:"
   ]
  },
  {
   "cell_type": "code",
   "execution_count": 1,
   "metadata": {},
   "outputs": [],
   "source": [
    "# Store the API key as a string - according to PEP8, constants are always named in all upper case\n",
    "API_KEY = ''"
   ]
  },
  {
   "cell_type": "markdown",
   "metadata": {},
   "source": [
    "Qaundl has a large number of data sources, but, unfortunately, most of them require a Premium subscription. Still, there are also a good number of free datasets."
   ]
  },
  {
   "cell_type": "markdown",
   "metadata": {},
   "source": [
    "For this mini project, we will focus on equities data from the Frankfurt Stock Exhange (FSE), which is available for free. We'll try and analyze the stock prices of a company called Carl Zeiss Meditec, which manufactures tools for eye examinations, as well as medical lasers for laser eye surgery: https://www.zeiss.com/meditec/int/home.html. The company is listed under the stock ticker AFX_X."
   ]
  },
  {
   "cell_type": "markdown",
   "metadata": {},
   "source": [
    "You can find the detailed Quandl API instructions here: https://docs.quandl.com/docs/time-series"
   ]
  },
  {
   "cell_type": "markdown",
   "metadata": {},
   "source": [
    "While there is a dedicated Python package for connecting to the Quandl API, we would prefer that you use the *requests* package, which can be easily downloaded using *pip* or *conda*. You can find the documentation for the package here: http://docs.python-requests.org/en/master/ "
   ]
  },
  {
   "cell_type": "markdown",
   "metadata": {},
   "source": [
    "Finally, apart from the *requests* package, you are encouraged to not use any third party Python packages, such as *pandas*, and instead focus on what's available in the Python Standard Library (the *collections* module might come in handy: https://pymotw.com/3/collections/ ).\n",
    "Also, since you won't have access to DataFrames, you are encouraged to us Python's native data structures - preferably dictionaries, though some questions can also be answered using lists.\n",
    "You can read more on these data structures here: https://docs.python.org/3/tutorial/datastructures.html"
   ]
  },
  {
   "cell_type": "markdown",
   "metadata": {},
   "source": [
    "Keep in mind that the JSON responses you will be getting from the API map almost one-to-one to Python's dictionaries. Unfortunately, they can be very nested, so make sure you read up on indexing dictionaries in the documentation provided above."
   ]
  },
  {
   "cell_type": "code",
   "execution_count": 2,
   "metadata": {},
   "outputs": [],
   "source": [
    "# First, import the relevant modules\n",
    "import requests\n",
    "import json\n",
    "import statistics"
   ]
  },
  {
   "cell_type": "code",
   "execution_count": 3,
   "metadata": {},
   "outputs": [],
   "source": [
    "# Now, call the Quandl API and pull out a small sample of the data (only one day) to get a glimpse\n",
    "# into the JSON structure that will be returned\n",
    "r_sample = requests.get('https://www.quandl.com/api/v3/datasets/FSE/AFX_X/data.json?start_date=2019-06-07&end_date=2019-06-07&api_key=' + API_KEY)\n",
    "j_sample = r_sample.json()\n"
   ]
  },
  {
   "cell_type": "code",
   "execution_count": 4,
   "metadata": {},
   "outputs": [
    {
     "data": {
      "text/plain": [
       "{'dataset_data': {'limit': None,\n",
       "  'transform': None,\n",
       "  'column_index': None,\n",
       "  'column_names': ['Date',\n",
       "   'Open',\n",
       "   'High',\n",
       "   'Low',\n",
       "   'Close',\n",
       "   'Change',\n",
       "   'Traded Volume',\n",
       "   'Turnover',\n",
       "   'Last Price of the Day',\n",
       "   'Daily Traded Units',\n",
       "   'Daily Turnover'],\n",
       "  'start_date': '2019-06-07',\n",
       "  'end_date': '2019-06-07',\n",
       "  'frequency': 'daily',\n",
       "  'data': [['2019-06-07',\n",
       "    None,\n",
       "    87.2,\n",
       "    85.45,\n",
       "    86.95,\n",
       "    None,\n",
       "    138663.0,\n",
       "    12010778.0,\n",
       "    None,\n",
       "    None,\n",
       "    None]],\n",
       "  'collapse': None,\n",
       "  'order': None}}"
      ]
     },
     "execution_count": 4,
     "metadata": {},
     "output_type": "execute_result"
    }
   ],
   "source": [
    "# Inspect the JSON structure of the object you created, and take note of how nested it is,\n",
    "# as well as the overall structure\n",
    "j_sample"
   ]
  },
  {
   "cell_type": "markdown",
   "metadata": {},
   "source": [
    "These are your tasks for this mini project:\n",
    "\n",
    "1. Collect data from the Franfurt Stock Exchange, for the ticker AFX_X, for the whole year 2017 (keep in mind that the date format is YYYY-MM-DD).\n",
    "2. Convert the returned JSON object into a Python dictionary.\n",
    "3. Calculate what the highest and lowest opening prices were for the stock in this period.\n",
    "4. What was the largest change in any one day (based on High and Low price)?\n",
    "5. What was the largest change between any two days (based on Closing Price)?\n",
    "6. What was the average daily trading volume during this year?\n",
    "7. (Optional) What was the median trading volume during this year. (Note: you may need to implement your own function for calculating the median.)"
   ]
  },
  {
   "cell_type": "markdown",
   "metadata": {
    "collapsed": true
   },
   "source": [
    "1. Collect data from the Franfurt Stock Exchange, for the ticker AFX_X, for the whole year 2017 (keep in mind that the date format is YYYY-MM-DD)."
   ]
  },
  {
   "cell_type": "code",
   "execution_count": 5,
   "metadata": {},
   "outputs": [],
   "source": [
    "r_2017 = requests.get('https://www.quandl.com/api/v3/datasets/FSE/AFX_X/data.json?start_date=2017-01-01&end_date=2017-12-31&api_key=' + API_KEY)"
   ]
  },
  {
   "cell_type": "markdown",
   "metadata": {},
   "source": [
    "2. Convert the returned JSON object into a Python dictionary."
   ]
  },
  {
   "cell_type": "code",
   "execution_count": 6,
   "metadata": {},
   "outputs": [],
   "source": [
    "dict_2017 = r_2017.json()"
   ]
  },
  {
   "cell_type": "code",
   "execution_count": 7,
   "metadata": {},
   "outputs": [
    {
     "data": {
      "text/plain": [
       "['2017-12-29',\n",
       " 51.76,\n",
       " 51.94,\n",
       " 51.45,\n",
       " 51.76,\n",
       " None,\n",
       " 34640.0,\n",
       " 1792304.0,\n",
       " None,\n",
       " None,\n",
       " None]"
      ]
     },
     "execution_count": 7,
     "metadata": {},
     "output_type": "execute_result"
    }
   ],
   "source": [
    "# Extract only the relevant data from the dictionary (data_2017 is a list of lists)\n",
    "data_2017 = dict_2017['dataset_data']['data']\n",
    "data_2017[0]"
   ]
  },
  {
   "cell_type": "markdown",
   "metadata": {},
   "source": [
    "3. Calculate what the highest and lowest opening prices were for the stock in this period."
   ]
  },
  {
   "cell_type": "code",
   "execution_count": 8,
   "metadata": {},
   "outputs": [
    {
     "name": "stdout",
     "output_type": "stream",
     "text": [
      "2017 AFX_X Maximum Open Price: $53.11 on 2017-12-14\n",
      "2017 AFX_X Minimum Open Price: $34.00 on 2017-01-24\n"
     ]
    }
   ],
   "source": [
    "# Extract open prices from data_2017\n",
    "opens = list(zip(*data_2017))[1]\n",
    "\n",
    "# Calculate the maximum and minimum values in the list of opening prices, ignoring Nonetype values, also record the index\n",
    "(open_max, i) = max((x, i) for i, x in enumerate(opens) if x is not None)\n",
    "(open_min, j) = min((y, j) for j, y in enumerate(opens) if y is not None)\n",
    "\n",
    "# Print the results\n",
    "print('2017 AFX_X Maximum Open Price: $%.2f on %s' % (open_max, data_2017[i][0]))\n",
    "print('2017 AFX_X Minimum Open Price: $%.2f on %s' % (open_min, data_2017[j][0]))"
   ]
  },
  {
   "cell_type": "markdown",
   "metadata": {},
   "source": [
    "4. What was the largest change in any one day (based on High and Low price)?"
   ]
  },
  {
   "cell_type": "code",
   "execution_count": 9,
   "metadata": {},
   "outputs": [
    {
     "name": "stdout",
     "output_type": "stream",
     "text": [
      "2017 AFX_X Maximum Daily Variation: $2.81 on 2017-05-11\n"
     ]
    }
   ],
   "source": [
    "# Extract high and low prices from data_2017\n",
    "highs = list(zip(*data_2017))[2]\n",
    "lows = list(zip(*data_2017))[3]\n",
    "\n",
    "# Calculate the daily variation (difference between the daily high and low)\n",
    "daily_variation = [x - y for x, y in zip(highs,lows)]\n",
    "\n",
    "# Find the maximum variation and its index\n",
    "(max_variation, k) = max((z, k) for k, z in enumerate(daily_variation))\n",
    "\n",
    "# Print the results\n",
    "print('2017 AFX_X Maximum Daily Variation: $%.2f on %s' % (max_variation, data_2017[k][0]))"
   ]
  },
  {
   "cell_type": "markdown",
   "metadata": {},
   "source": [
    "5. What was the largest change between any two days (based on Closing Price)?"
   ]
  },
  {
   "cell_type": "code",
   "execution_count": 10,
   "metadata": {},
   "outputs": [
    {
     "name": "stdout",
     "output_type": "stream",
     "text": [
      "2017 AFX_X Maximum Closing Price Day-to-Day Change: -$2.56 on 2017-08-08 to 2017-08-09\n"
     ]
    }
   ],
   "source": [
    "# Extract close prices from data_2017\n",
    "closes = list(zip(*data_2017))[4]\n",
    "\n",
    "# Calculate the close change between days\n",
    "daily_close_change = [j-i for i, j in zip(closes[:-1], closes[1:])]\n",
    "\n",
    "# Calculate the maximum positive and negative daily close change\n",
    "# Remember the first values in data_2017 are for the last day of the year\n",
    "(max_pos_daily_close_change, i) = max((x,i) for i, x in enumerate(daily_close_change))\n",
    "(max_neg_daily_close_change, j) = min((x,j) for j, x in enumerate(daily_close_change))\n",
    "\n",
    "# Determine if the positive or negative change is greater and print the results\n",
    "if abs(max_pos_daily_close_change) > abs(max_neg_daily_close_change):\n",
    "    max_daily_close_change = -max_pos_daily_close_change\n",
    "    print('2017 AFX_X Maximum Closing Price Day-to-Day Change: -$%.2f on %s to %s' % (abs(max_daily_close_change), data_2017[i+1][0], data_2017[i][0]))\n",
    "else:\n",
    "    max_daily_close_change = max_neg_daily_close_change\n",
    "    print('2017 AFX_X Maximum Closing Price Day-to-Day Change: $%.2f on %s to %s' % (max_daily_close_change, data_2017[j+1][0], data_2017[j][0]))"
   ]
  },
  {
   "cell_type": "markdown",
   "metadata": {},
   "source": [
    "6. What was the average daily trading volume during this year?"
   ]
  },
  {
   "cell_type": "code",
   "execution_count": 11,
   "metadata": {},
   "outputs": [
    {
     "name": "stdout",
     "output_type": "stream",
     "text": [
      "2017 AFX_X Average Daily Trading Volume: 89124\n"
     ]
    }
   ],
   "source": [
    "# Extract daily trading volume from data_2017\n",
    "daily_volume = list(zip(*data_2017))[6]\n",
    "\n",
    "# Print the calculated mean daily volume\n",
    "print('2017 AFX_X Average Daily Trading Volume: %.f' % statistics.mean(daily_volume))"
   ]
  },
  {
   "cell_type": "markdown",
   "metadata": {},
   "source": [
    "7. (Optional) What was the median trading volume during this year. (Note: you may need to implement your own function for calculating the median.)"
   ]
  },
  {
   "cell_type": "code",
   "execution_count": 12,
   "metadata": {},
   "outputs": [
    {
     "name": "stdout",
     "output_type": "stream",
     "text": [
      "2017 AFX_X Median Daily Trading Volume: 76286\n"
     ]
    }
   ],
   "source": [
    "# Define a function that takes in a list of numbers and calculates the median value\n",
    "def median(numbers):\n",
    "    if len(numbers) < 1:\n",
    "        return None\n",
    "    elif len(numbers) % 2 == 1:\n",
    "        return sorted(numbers)[int(len(numbers)/2)]\n",
    "    else:\n",
    "        return float(sorted(numbers)[int(len(numbers)/2)] + sorted(numbers)[int(len(numbers)/2-1)])/2\n",
    "\n",
    "# Call the median function on the daily volume list and print the result\n",
    "print('2017 AFX_X Median Daily Trading Volume: %.f' % median(daily_volume))"
   ]
  }
 ],
 "metadata": {
  "kernelspec": {
   "display_name": "Python 3",
   "language": "python",
   "name": "python3"
  },
  "language_info": {
   "codemirror_mode": {
    "name": "ipython",
    "version": 3
   },
   "file_extension": ".py",
   "mimetype": "text/x-python",
   "name": "python",
   "nbconvert_exporter": "python",
   "pygments_lexer": "ipython3",
   "version": "3.7.3"
  }
 },
 "nbformat": 4,
 "nbformat_minor": 2
}
